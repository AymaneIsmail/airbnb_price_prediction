{
 "cells": [
  {
   "cell_type": "code",
   "execution_count": null,
   "metadata": {},
   "outputs": [],
   "source": [
    "import pandas as pd\n",
    "import os\n",
    "import glob"
   ]
  },
  {
   "cell_type": "code",
   "execution_count": null,
   "metadata": {},
   "outputs": [],
   "source": [
    "listings = glob.glob(os.path.join(\"data\", \"listings_*.csv\"))\n",
    "listings = pd.concat((pd.read_csv(f) for f in listings), ignore_index=True)"
   ]
  },
  {
   "cell_type": "code",
   "execution_count": null,
   "metadata": {},
   "outputs": [],
   "source": [
    "listings.info()"
   ]
  },
  {
   "cell_type": "code",
   "execution_count": null,
   "metadata": {},
   "outputs": [],
   "source": [
    "columns_to_drop = [\n",
    "    # \"id\", # jointure avec calendar\n",
    "    \"listing_url\",\n",
    "    \"scrape_id\",\n",
    "    \"last_scraped\",\n",
    "    \"name\",\n",
    "    \"description\",\n",
    "    \"neighborhood_overview\",\n",
    "    \"picture_url\",\n",
    "    \"host_id\",\n",
    "    \"host_url\",\n",
    "    \"host_name\",\n",
    "    \"host_since\",\n",
    "    \"host_location\",\n",
    "    \"host_about\",\n",
    "    \"host_response_time\",\n",
    "    \"host_response_rate\",\n",
    "    \"host_acceptance_rate\",\n",
    "    \"host_is_superhost\", # peut être transformer en booléen et utiliser\n",
    "    \"host_thumbnail_url\",\n",
    "    \"host_picture_url\",\n",
    "    \"host_neighbourhood\",\n",
    "    \"host_listings_count\",\n",
    "    \"host_total_listings_count\", # utiliser avec superhost\n",
    "    \"host_verifications\",\n",
    "    \"host_has_profile_pic\",\n",
    "    \"host_identity_verified\",\n",
    "    \"neighbourhood\",\n",
    "    # \"neighbourhood_cleansed\",\n",
    "    \"neighbourhood_group_cleansed\",\n",
    "    \"latitude\",\n",
    "    \"longitude\",\n",
    "    \"property_type\",\n",
    "    # \"room_type\",\n",
    "    # \"accommodates\",\n",
    "    \"bathrooms\",\n",
    "    # \"bathrooms_text\",\n",
    "    # \"bedrooms\",\n",
    "    # \"beds\",\n",
    "    # \"amenities\",\n",
    "    # \"price\",\n",
    "    \"minimum_nights\",\n",
    "    \"maximum_nights\",\n",
    "    \"minimum_minimum_nights\",\n",
    "    \"maximum_minimum_nights\",\n",
    "    \"minimum_maximum_nights\",\n",
    "    \"maximum_maximum_nights\",\n",
    "    \"minimum_nights_avg_ntm\", # peut être utile car + longue période = moins cher\n",
    "    \"maximum_nights_avg_ntm\", # peut être utile car + longue période = moins cher\n",
    "    \"calendar_updated\",\n",
    "    \"has_availability\",\n",
    "    \"availability_30\",\n",
    "    \"availability_60\",\n",
    "    \"availability_90\",\n",
    "    # \"availability_365\",\n",
    "    \"calendar_last_scraped\",\n",
    "    # \"number_of_reviews\",\n",
    "    \"number_of_reviews_ltm\",\n",
    "    \"number_of_reviews_l30d\",\n",
    "    \"first_review\",\n",
    "    \"last_review\",\n",
    "    # \"review_scores_rating\",\n",
    "    \"review_scores_accuracy\",\n",
    "    \"review_scores_cleanliness\",\n",
    "    \"review_scores_checkin\",\n",
    "    \"review_scores_communication\",\n",
    "    \"review_scores_location\",\n",
    "    \"review_scores_value\",\n",
    "    \"license\",\n",
    "    \"instant_bookable\",\n",
    "    \"calculated_host_listings_count\",\n",
    "    \"calculated_host_listings_count_entire_homes\",\n",
    "    \"calculated_host_listings_count_private_rooms\",\n",
    "    \"calculated_host_listings_count_shared_rooms\",\n",
    "    \"reviews_per_month\"\n",
    "]"
   ]
  },
  {
   "cell_type": "code",
   "execution_count": null,
   "metadata": {},
   "outputs": [],
   "source": [
    "listings = listings.drop(columns=columns_to_drop)"
   ]
  },
  {
   "cell_type": "code",
   "execution_count": null,
   "metadata": {},
   "outputs": [],
   "source": [
    "def get_column_missing_value_percentage(df: pd.DataFrame) -> pd.TimedeltaSeries:\n",
    "    missing_values = df.isnull().mean() * 100\n",
    "    missing_values = missing_values[missing_values > 0]\n",
    "    missing_values.sort_values(ascending=False)\n",
    "    return missing_values"
   ]
  },
  {
   "cell_type": "code",
   "execution_count": null,
   "metadata": {},
   "outputs": [],
   "source": [
    "def show_missing_column_values(df: pd.DataFrame) -> None:\n",
    "    import matplotlib.pyplot as plt\n",
    "    ax = missing_values.plot.bar()\n",
    "    ax.set_ylabel(\"Pourcentage de valeurs manquantes\")\n",
    "    ax.set_xlabel(\"Colonnes\")\n",
    "    ax.set_title(\"Pourcentage de valeurs manquantes par colonnes\")\n",
    "    plt.show()"
   ]
  }
 ],
 "metadata": {
  "language_info": {
   "name": "python"
  }
 },
 "nbformat": 4,
 "nbformat_minor": 2
}
