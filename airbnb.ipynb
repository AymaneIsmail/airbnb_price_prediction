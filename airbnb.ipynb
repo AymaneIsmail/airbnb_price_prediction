{
 "cells": [
  {
   "cell_type": "code",
   "execution_count": 87,
   "metadata": {},
   "outputs": [],
   "source": [
    "# url : \n",
    "# https://towardsdatascience.com/airbnb-price-prediction-using-linear-regression-scikit-learn-and-statsmodels-6e1fc2bd51a6\n",
    "# https://www.kaggle.com/code/michalashkenazi/paris-airbnb-prices-prediction-xgboost"
   ]
  },
  {
   "cell_type": "markdown",
   "metadata": {},
   "source": [
    "# Installation des packages"
   ]
  },
  {
   "cell_type": "code",
   "execution_count": 88,
   "metadata": {},
   "outputs": [],
   "source": [
    "# %pip install -r requirements.txt"
   ]
  },
  {
   "cell_type": "code",
   "execution_count": 89,
   "metadata": {},
   "outputs": [],
   "source": [
    "import matplotlib.pyplot as plt\n",
    "import seaborn as sns\n",
    "from sklearn.preprocessing import OneHotEncoder, StandardScaler\n",
    "from sklearn.model_selection import train_test_split\n",
    "from sklearn.linear_model import LinearRegression\n",
    "import pandas as pd\n",
    "import numpy as np\n",
    "from sklearn.model_selection import train_test_split\n",
    "from sklearn.linear_model import LinearRegression\n",
    "from sklearn.metrics import mean_squared_error, mean_absolute_error, r2_score\n",
    "from sklearn.preprocessing import StandardScaler, OneHotEncoder\n",
    "from sklearn.compose import ColumnTransformer\n",
    "from sklearn.pipeline import Pipeline\n",
    "import os"
   ]
  },
  {
   "cell_type": "markdown",
   "metadata": {},
   "source": [
    "# Exploration des données"
   ]
  },
  {
   "cell_type": "code",
   "execution_count": 90,
   "metadata": {},
   "outputs": [],
   "source": [
    "folder_path = './data/'\n",
    "\n",
    "# Lister tous les fichiers CSV\n",
    "csv_files = [f for f in os.listdir(folder_path) if f.endswith('.csv')]\n",
    "\n",
    "# Ajouter le chemin complet pour chaque fichier\n",
    "csv_files = [os.path.join(folder_path, f) for f in csv_files]"
   ]
  },
  {
   "cell_type": "code",
   "execution_count": 91,
   "metadata": {},
   "outputs": [
    {
     "name": "stdout",
     "output_type": "stream",
     "text": [
      "['./data/clean_df.csv', './data/listings.csv', './data/listings2.csv']\n"
     ]
    }
   ],
   "source": [
    "# Choisir les colonnes à conserver\n",
    "# On peut se passer du calendar.csv car les informations ne nous intéressent pas\n",
    "# On se concentre sur listings et reviews pour l'instant\n",
    "# On peut liée les reviews aux listings via l'ID de l'annonce\n",
    "\n",
    "# Exclure 'calendar.csv' de la liste\n",
    "filtered_files = [f for f in csv_files]\n",
    "\n",
    "print(filtered_files)\n"
   ]
  },
  {
   "cell_type": "code",
   "execution_count": 92,
   "metadata": {},
   "outputs": [],
   "source": [
    "# Assuming the files are named appropriately, you can filter them like this:\n",
    "listings_file = [f for f in filtered_files if 'listings' in f][0]\n",
    "\n",
    "listings = pd.read_csv(listings_file)"
   ]
  },
  {
   "cell_type": "code",
   "execution_count": 93,
   "metadata": {},
   "outputs": [
    {
     "data": {
      "text/plain": [
       "Index(['id', 'listing_url', 'scrape_id', 'last_scraped', 'source', 'name',\n",
       "       'description', 'neighborhood_overview', 'picture_url', 'host_id',\n",
       "       'host_url', 'host_name', 'host_since', 'host_location', 'host_about',\n",
       "       'host_response_time', 'host_response_rate', 'host_acceptance_rate',\n",
       "       'host_is_superhost', 'host_thumbnail_url', 'host_picture_url',\n",
       "       'host_neighbourhood', 'host_listings_count',\n",
       "       'host_total_listings_count', 'host_verifications',\n",
       "       'host_has_profile_pic', 'host_identity_verified', 'neighbourhood',\n",
       "       'neighbourhood_cleansed', 'neighbourhood_group_cleansed', 'latitude',\n",
       "       'longitude', 'property_type', 'room_type', 'accommodates', 'bathrooms',\n",
       "       'bathrooms_text', 'bedrooms', 'beds', 'amenities', 'price',\n",
       "       'minimum_nights', 'maximum_nights', 'minimum_minimum_nights',\n",
       "       'maximum_minimum_nights', 'minimum_maximum_nights',\n",
       "       'maximum_maximum_nights', 'minimum_nights_avg_ntm',\n",
       "       'maximum_nights_avg_ntm', 'calendar_updated', 'has_availability',\n",
       "       'availability_30', 'availability_60', 'availability_90',\n",
       "       'availability_365', 'calendar_last_scraped', 'number_of_reviews',\n",
       "       'number_of_reviews_ltm', 'number_of_reviews_l30d', 'first_review',\n",
       "       'last_review', 'review_scores_rating', 'review_scores_accuracy',\n",
       "       'review_scores_cleanliness', 'review_scores_checkin',\n",
       "       'review_scores_communication', 'review_scores_location',\n",
       "       'review_scores_value', 'license', 'instant_bookable',\n",
       "       'calculated_host_listings_count',\n",
       "       'calculated_host_listings_count_entire_homes',\n",
       "       'calculated_host_listings_count_private_rooms',\n",
       "       'calculated_host_listings_count_shared_rooms', 'reviews_per_month'],\n",
       "      dtype='object')"
      ]
     },
     "execution_count": 93,
     "metadata": {},
     "output_type": "execute_result"
    }
   ],
   "source": [
    "listings.columns"
   ]
  },
  {
   "cell_type": "code",
   "execution_count": 94,
   "metadata": {},
   "outputs": [
    {
     "data": {
      "text/html": [
       "<div>\n",
       "<style scoped>\n",
       "    .dataframe tbody tr th:only-of-type {\n",
       "        vertical-align: middle;\n",
       "    }\n",
       "\n",
       "    .dataframe tbody tr th {\n",
       "        vertical-align: top;\n",
       "    }\n",
       "\n",
       "    .dataframe thead th {\n",
       "        text-align: right;\n",
       "    }\n",
       "</style>\n",
       "<table border=\"1\" class=\"dataframe\">\n",
       "  <thead>\n",
       "    <tr style=\"text-align: right;\">\n",
       "      <th></th>\n",
       "      <th>id</th>\n",
       "      <th>listing_url</th>\n",
       "      <th>scrape_id</th>\n",
       "      <th>last_scraped</th>\n",
       "      <th>source</th>\n",
       "      <th>name</th>\n",
       "      <th>description</th>\n",
       "      <th>neighborhood_overview</th>\n",
       "      <th>picture_url</th>\n",
       "      <th>host_id</th>\n",
       "      <th>host_url</th>\n",
       "      <th>host_name</th>\n",
       "      <th>host_since</th>\n",
       "      <th>host_location</th>\n",
       "      <th>host_about</th>\n",
       "      <th>host_response_time</th>\n",
       "      <th>host_response_rate</th>\n",
       "      <th>host_acceptance_rate</th>\n",
       "      <th>host_is_superhost</th>\n",
       "      <th>host_thumbnail_url</th>\n",
       "      <th>host_picture_url</th>\n",
       "      <th>host_neighbourhood</th>\n",
       "      <th>host_listings_count</th>\n",
       "      <th>host_total_listings_count</th>\n",
       "      <th>host_verifications</th>\n",
       "      <th>host_has_profile_pic</th>\n",
       "      <th>host_identity_verified</th>\n",
       "      <th>neighbourhood</th>\n",
       "      <th>neighbourhood_cleansed</th>\n",
       "      <th>neighbourhood_group_cleansed</th>\n",
       "      <th>latitude</th>\n",
       "      <th>longitude</th>\n",
       "      <th>property_type</th>\n",
       "      <th>room_type</th>\n",
       "      <th>accommodates</th>\n",
       "      <th>bathrooms</th>\n",
       "      <th>bathrooms_text</th>\n",
       "      <th>bedrooms</th>\n",
       "      <th>beds</th>\n",
       "      <th>amenities</th>\n",
       "      <th>price</th>\n",
       "      <th>minimum_nights</th>\n",
       "      <th>maximum_nights</th>\n",
       "      <th>minimum_minimum_nights</th>\n",
       "      <th>maximum_minimum_nights</th>\n",
       "      <th>minimum_maximum_nights</th>\n",
       "      <th>maximum_maximum_nights</th>\n",
       "      <th>minimum_nights_avg_ntm</th>\n",
       "      <th>maximum_nights_avg_ntm</th>\n",
       "      <th>calendar_updated</th>\n",
       "      <th>has_availability</th>\n",
       "      <th>availability_30</th>\n",
       "      <th>availability_60</th>\n",
       "      <th>availability_90</th>\n",
       "      <th>availability_365</th>\n",
       "      <th>calendar_last_scraped</th>\n",
       "      <th>number_of_reviews</th>\n",
       "      <th>number_of_reviews_ltm</th>\n",
       "      <th>number_of_reviews_l30d</th>\n",
       "      <th>first_review</th>\n",
       "      <th>last_review</th>\n",
       "      <th>review_scores_rating</th>\n",
       "      <th>review_scores_accuracy</th>\n",
       "      <th>review_scores_cleanliness</th>\n",
       "      <th>review_scores_checkin</th>\n",
       "      <th>review_scores_communication</th>\n",
       "      <th>review_scores_location</th>\n",
       "      <th>review_scores_value</th>\n",
       "      <th>license</th>\n",
       "      <th>instant_bookable</th>\n",
       "      <th>calculated_host_listings_count</th>\n",
       "      <th>calculated_host_listings_count_entire_homes</th>\n",
       "      <th>calculated_host_listings_count_private_rooms</th>\n",
       "      <th>calculated_host_listings_count_shared_rooms</th>\n",
       "      <th>reviews_per_month</th>\n",
       "    </tr>\n",
       "  </thead>\n",
       "  <tbody>\n",
       "    <tr>\n",
       "      <th>0</th>\n",
       "      <td>3109</td>\n",
       "      <td>https://www.airbnb.com/rooms/3109</td>\n",
       "      <td>20240906025355</td>\n",
       "      <td>2024-09-11</td>\n",
       "      <td>city scrape</td>\n",
       "      <td>zen and calm</td>\n",
       "      <td>Lovely Appartment with one bedroom with a Queen size bed.&lt;br /&gt;Calm et bright&lt;br /&gt;Sheets and towels furnished&lt;br /&gt;4th floor, no elevator</td>\n",
       "      <td>Good restaurants&lt;br /&gt;very close the Montparnasse Station&lt;br /&gt;15 m from the center of Paris</td>\n",
       "      <td>https://a0.muscache.com/pictures/miso/Hosting-3109/original/50c69430-6385-413b-8a65-f6c022912301.jpeg</td>\n",
       "      <td>3631</td>\n",
       "      <td>https://www.airbnb.com/users/show/3631</td>\n",
       "      <td>Anne</td>\n",
       "      <td>2008-10-14</td>\n",
       "      <td>Paris, France</td>\n",
       "      <td>NaN</td>\n",
       "      <td>NaN</td>\n",
       "      <td>NaN</td>\n",
       "      <td>67%</td>\n",
       "      <td>f</td>\n",
       "      <td>https://a0.muscache.com/im/users/3631/profile_pic/1375800198/original.jpg?aki_policy=profile_small</td>\n",
       "      <td>https://a0.muscache.com/im/users/3631/profile_pic/1375800198/original.jpg?aki_policy=profile_x_medium</td>\n",
       "      <td>Alésia</td>\n",
       "      <td>1.0</td>\n",
       "      <td>1.0</td>\n",
       "      <td>['email', 'phone']</td>\n",
       "      <td>t</td>\n",
       "      <td>t</td>\n",
       "      <td>Neighborhood highlights</td>\n",
       "      <td>Observatoire</td>\n",
       "      <td>NaN</td>\n",
       "      <td>48.83191</td>\n",
       "      <td>2.3187</td>\n",
       "      <td>Entire rental unit</td>\n",
       "      <td>Entire home/apt</td>\n",
       "      <td>2</td>\n",
       "      <td>1.0</td>\n",
       "      <td>1 bath</td>\n",
       "      <td>1.0</td>\n",
       "      <td>1.0</td>\n",
       "      <td>[\"Cooking basics\", \"Luggage dropoff allowed\", \"Iron\", \"Smart lock\", \"Smoke alarm\", \"Dishes and silverware\", \"Washer\", \"Self check-in\", \"Hangers\", \"Wifi\", \"Children\\u2019s books and toys\", \"Hot water\", \"Paid parking off premises\", \"Hair dryer\", \"Kitchen\"]</td>\n",
       "      <td>$113.00</td>\n",
       "      <td>2</td>\n",
       "      <td>30</td>\n",
       "      <td>2</td>\n",
       "      <td>2</td>\n",
       "      <td>30</td>\n",
       "      <td>30</td>\n",
       "      <td>2.0</td>\n",
       "      <td>30.0</td>\n",
       "      <td>NaN</td>\n",
       "      <td>t</td>\n",
       "      <td>6</td>\n",
       "      <td>20</td>\n",
       "      <td>35</td>\n",
       "      <td>297</td>\n",
       "      <td>2024-09-11</td>\n",
       "      <td>4</td>\n",
       "      <td>0</td>\n",
       "      <td>0</td>\n",
       "      <td>2017-10-28</td>\n",
       "      <td>2019-10-24</td>\n",
       "      <td>5.0</td>\n",
       "      <td>5.0</td>\n",
       "      <td>5.0</td>\n",
       "      <td>5.0</td>\n",
       "      <td>5.0</td>\n",
       "      <td>5.0</td>\n",
       "      <td>5.0</td>\n",
       "      <td>7511409139079</td>\n",
       "      <td>t</td>\n",
       "      <td>1</td>\n",
       "      <td>1</td>\n",
       "      <td>0</td>\n",
       "      <td>0</td>\n",
       "      <td>0.05</td>\n",
       "    </tr>\n",
       "  </tbody>\n",
       "</table>\n",
       "</div>"
      ],
      "text/plain": [
       "     id                        listing_url       scrape_id last_scraped  \\\n",
       "0  3109  https://www.airbnb.com/rooms/3109  20240906025355   2024-09-11   \n",
       "\n",
       "        source          name  \\\n",
       "0  city scrape  zen and calm   \n",
       "\n",
       "                                                                                                                                  description  \\\n",
       "0  Lovely Appartment with one bedroom with a Queen size bed.<br />Calm et bright<br />Sheets and towels furnished<br />4th floor, no elevator   \n",
       "\n",
       "                                                                          neighborhood_overview  \\\n",
       "0  Good restaurants<br />very close the Montparnasse Station<br />15 m from the center of Paris   \n",
       "\n",
       "                                                                                             picture_url  \\\n",
       "0  https://a0.muscache.com/pictures/miso/Hosting-3109/original/50c69430-6385-413b-8a65-f6c022912301.jpeg   \n",
       "\n",
       "   host_id                                host_url host_name  host_since  \\\n",
       "0     3631  https://www.airbnb.com/users/show/3631      Anne  2008-10-14   \n",
       "\n",
       "   host_location host_about host_response_time host_response_rate  \\\n",
       "0  Paris, France        NaN                NaN                NaN   \n",
       "\n",
       "  host_acceptance_rate host_is_superhost  \\\n",
       "0                  67%                 f   \n",
       "\n",
       "                                                                                   host_thumbnail_url  \\\n",
       "0  https://a0.muscache.com/im/users/3631/profile_pic/1375800198/original.jpg?aki_policy=profile_small   \n",
       "\n",
       "                                                                                        host_picture_url  \\\n",
       "0  https://a0.muscache.com/im/users/3631/profile_pic/1375800198/original.jpg?aki_policy=profile_x_medium   \n",
       "\n",
       "  host_neighbourhood  host_listings_count  host_total_listings_count  \\\n",
       "0             Alésia                  1.0                        1.0   \n",
       "\n",
       "   host_verifications host_has_profile_pic host_identity_verified  \\\n",
       "0  ['email', 'phone']                    t                      t   \n",
       "\n",
       "             neighbourhood neighbourhood_cleansed  \\\n",
       "0  Neighborhood highlights           Observatoire   \n",
       "\n",
       "   neighbourhood_group_cleansed  latitude  longitude       property_type  \\\n",
       "0                           NaN  48.83191     2.3187  Entire rental unit   \n",
       "\n",
       "         room_type  accommodates  bathrooms bathrooms_text  bedrooms  beds  \\\n",
       "0  Entire home/apt             2        1.0         1 bath       1.0   1.0   \n",
       "\n",
       "                                                                                                                                                                                                                                                        amenities  \\\n",
       "0  [\"Cooking basics\", \"Luggage dropoff allowed\", \"Iron\", \"Smart lock\", \"Smoke alarm\", \"Dishes and silverware\", \"Washer\", \"Self check-in\", \"Hangers\", \"Wifi\", \"Children\\u2019s books and toys\", \"Hot water\", \"Paid parking off premises\", \"Hair dryer\", \"Kitchen\"]   \n",
       "\n",
       "     price  minimum_nights  maximum_nights  minimum_minimum_nights  \\\n",
       "0  $113.00               2              30                       2   \n",
       "\n",
       "   maximum_minimum_nights  minimum_maximum_nights  maximum_maximum_nights  \\\n",
       "0                       2                      30                      30   \n",
       "\n",
       "   minimum_nights_avg_ntm  maximum_nights_avg_ntm  calendar_updated  \\\n",
       "0                     2.0                    30.0               NaN   \n",
       "\n",
       "  has_availability  availability_30  availability_60  availability_90  \\\n",
       "0                t                6               20               35   \n",
       "\n",
       "   availability_365 calendar_last_scraped  number_of_reviews  \\\n",
       "0               297            2024-09-11                  4   \n",
       "\n",
       "   number_of_reviews_ltm  number_of_reviews_l30d first_review last_review  \\\n",
       "0                      0                       0   2017-10-28  2019-10-24   \n",
       "\n",
       "   review_scores_rating  review_scores_accuracy  review_scores_cleanliness  \\\n",
       "0                   5.0                     5.0                        5.0   \n",
       "\n",
       "   review_scores_checkin  review_scores_communication  review_scores_location  \\\n",
       "0                    5.0                          5.0                     5.0   \n",
       "\n",
       "   review_scores_value        license instant_bookable  \\\n",
       "0                  5.0  7511409139079                t   \n",
       "\n",
       "   calculated_host_listings_count  \\\n",
       "0                               1   \n",
       "\n",
       "   calculated_host_listings_count_entire_homes  \\\n",
       "0                                            1   \n",
       "\n",
       "   calculated_host_listings_count_private_rooms  \\\n",
       "0                                             0   \n",
       "\n",
       "   calculated_host_listings_count_shared_rooms  reviews_per_month  \n",
       "0                                            0               0.05  "
      ]
     },
     "execution_count": 94,
     "metadata": {},
     "output_type": "execute_result"
    }
   ],
   "source": [
    "listings.head(1)"
   ]
  },
  {
   "cell_type": "code",
   "execution_count": 95,
   "metadata": {},
   "outputs": [
    {
     "name": "stdout",
     "output_type": "stream",
     "text": [
      "<class 'pandas.core.frame.DataFrame'>\n",
      "RangeIndex: 95461 entries, 0 to 95460\n",
      "Data columns (total 75 columns):\n",
      " #   Column                                        Non-Null Count  Dtype  \n",
      "---  ------                                        --------------  -----  \n",
      " 0   id                                            95461 non-null  int64  \n",
      " 1   listing_url                                   95461 non-null  object \n",
      " 2   scrape_id                                     95461 non-null  int64  \n",
      " 3   last_scraped                                  95461 non-null  object \n",
      " 4   source                                        95461 non-null  object \n",
      " 5   name                                          95461 non-null  object \n",
      " 6   description                                   91385 non-null  object \n",
      " 7   neighborhood_overview                         48179 non-null  object \n",
      " 8   picture_url                                   95459 non-null  object \n",
      " 9   host_id                                       95461 non-null  int64  \n",
      " 10  host_url                                      95461 non-null  object \n",
      " 11  host_name                                     95455 non-null  object \n",
      " 12  host_since                                    95455 non-null  object \n",
      " 13  host_location                                 75907 non-null  object \n",
      " 14  host_about                                    41035 non-null  object \n",
      " 15  host_response_time                            54372 non-null  object \n",
      " 16  host_response_rate                            54372 non-null  object \n",
      " 17  host_acceptance_rate                          65048 non-null  object \n",
      " 18  host_is_superhost                             93159 non-null  object \n",
      " 19  host_thumbnail_url                            95455 non-null  object \n",
      " 20  host_picture_url                              95455 non-null  object \n",
      " 21  host_neighbourhood                            33272 non-null  object \n",
      " 22  host_listings_count                           95455 non-null  float64\n",
      " 23  host_total_listings_count                     95455 non-null  float64\n",
      " 24  host_verifications                            95455 non-null  object \n",
      " 25  host_has_profile_pic                          95455 non-null  object \n",
      " 26  host_identity_verified                        95455 non-null  object \n",
      " 27  neighbourhood                                 48179 non-null  object \n",
      " 28  neighbourhood_cleansed                        95461 non-null  object \n",
      " 29  neighbourhood_group_cleansed                  0 non-null      float64\n",
      " 30  latitude                                      95461 non-null  float64\n",
      " 31  longitude                                     95461 non-null  float64\n",
      " 32  property_type                                 95461 non-null  object \n",
      " 33  room_type                                     95461 non-null  object \n",
      " 34  accommodates                                  95461 non-null  int64  \n",
      " 35  bathrooms                                     64222 non-null  float64\n",
      " 36  bathrooms_text                                95371 non-null  object \n",
      " 37  bedrooms                                      88056 non-null  float64\n",
      " 38  beds                                          64101 non-null  float64\n",
      " 39  amenities                                     95461 non-null  object \n",
      " 40  price                                         64230 non-null  object \n",
      " 41  minimum_nights                                95461 non-null  int64  \n",
      " 42  maximum_nights                                95461 non-null  int64  \n",
      " 43  minimum_minimum_nights                        95461 non-null  int64  \n",
      " 44  maximum_minimum_nights                        95461 non-null  int64  \n",
      " 45  minimum_maximum_nights                        95461 non-null  int64  \n",
      " 46  maximum_maximum_nights                        95461 non-null  int64  \n",
      " 47  minimum_nights_avg_ntm                        95461 non-null  float64\n",
      " 48  maximum_nights_avg_ntm                        95461 non-null  float64\n",
      " 49  calendar_updated                              0 non-null      float64\n",
      " 50  has_availability                              90592 non-null  object \n",
      " 51  availability_30                               95461 non-null  int64  \n",
      " 52  availability_60                               95461 non-null  int64  \n",
      " 53  availability_90                               95461 non-null  int64  \n",
      " 54  availability_365                              95461 non-null  int64  \n",
      " 55  calendar_last_scraped                         95461 non-null  object \n",
      " 56  number_of_reviews                             95461 non-null  int64  \n",
      " 57  number_of_reviews_ltm                         95461 non-null  int64  \n",
      " 58  number_of_reviews_l30d                        95461 non-null  int64  \n",
      " 59  first_review                                  68319 non-null  object \n",
      " 60  last_review                                   68319 non-null  object \n",
      " 61  review_scores_rating                          68319 non-null  float64\n",
      " 62  review_scores_accuracy                        68307 non-null  float64\n",
      " 63  review_scores_cleanliness                     68310 non-null  float64\n",
      " 64  review_scores_checkin                         68300 non-null  float64\n",
      " 65  review_scores_communication                   68309 non-null  float64\n",
      " 66  review_scores_location                        68301 non-null  float64\n",
      " 67  review_scores_value                           68299 non-null  float64\n",
      " 68  license                                       76014 non-null  object \n",
      " 69  instant_bookable                              95461 non-null  object \n",
      " 70  calculated_host_listings_count                95461 non-null  int64  \n",
      " 71  calculated_host_listings_count_entire_homes   95461 non-null  int64  \n",
      " 72  calculated_host_listings_count_private_rooms  95461 non-null  int64  \n",
      " 73  calculated_host_listings_count_shared_rooms   95461 non-null  int64  \n",
      " 74  reviews_per_month                             68319 non-null  float64\n",
      "dtypes: float64(19), int64(21), object(35)\n",
      "memory usage: 54.6+ MB\n"
     ]
    }
   ],
   "source": [
    "listings.info()"
   ]
  },
  {
   "cell_type": "code",
   "execution_count": 96,
   "metadata": {},
   "outputs": [],
   "source": [
    "columns_to_choose = [\n",
    "    'id', 'neighbourhood_cleansed', 'room_type', 'accommodates', 'bathrooms_text', \n",
    "    'amenities', 'price', 'beds','number_of_reviews', 'review_scores_rating', 'bedrooms'\n",
    "]\n",
    "\n",
    "df = listings[columns_to_choose]"
   ]
  },
  {
   "cell_type": "markdown",
   "metadata": {},
   "source": [
    "# Cleaning des données"
   ]
  },
  {
   "cell_type": "markdown",
   "metadata": {},
   "source": [
    "### 1. Datetime & Float"
   ]
  },
  {
   "cell_type": "code",
   "execution_count": 97,
   "metadata": {},
   "outputs": [],
   "source": [
    "df = df.dropna()"
   ]
  },
  {
   "cell_type": "code",
   "execution_count": 98,
   "metadata": {},
   "outputs": [],
   "source": [
    "# Transformer la colonne \"price\" en float\n",
    "df['price'] = df['price'].str.replace('$', '').str.replace(',', '').astype(float)"
   ]
  },
  {
   "cell_type": "code",
   "execution_count": 99,
   "metadata": {},
   "outputs": [
    {
     "data": {
      "text/plain": [
       "id                        0.0\n",
       "neighbourhood_cleansed    0.0\n",
       "room_type                 0.0\n",
       "accommodates              0.0\n",
       "bathrooms_text            0.0\n",
       "amenities                 0.0\n",
       "price                     0.0\n",
       "beds                      0.0\n",
       "number_of_reviews         0.0\n",
       "review_scores_rating      0.0\n",
       "bedrooms                  0.0\n",
       "dtype: float64"
      ]
     },
     "execution_count": 99,
     "metadata": {},
     "output_type": "execute_result"
    }
   ],
   "source": [
    "df.isnull().sum()/df.shape[0]*100"
   ]
  },
  {
   "cell_type": "markdown",
   "metadata": {},
   "source": [
    "### 5. Transformer \"bath_text\" en int"
   ]
  },
  {
   "cell_type": "code",
   "execution_count": 100,
   "metadata": {},
   "outputs": [],
   "source": [
    "df['bathrooms_text'] = df['bathrooms_text'].str.extract(r'(\\d+)').astype(float)"
   ]
  },
  {
   "cell_type": "code",
   "execution_count": 101,
   "metadata": {},
   "outputs": [],
   "source": [
    "df = df.rename(columns={'bathrooms_text': 'bathrooms'})"
   ]
  },
  {
   "cell_type": "code",
   "execution_count": 102,
   "metadata": {},
   "outputs": [
    {
     "name": "stdout",
     "output_type": "stream",
     "text": [
      "181\n",
      "30\n"
     ]
    }
   ],
   "source": [
    "print((df['bathrooms'] == 0).sum())\n",
    "print((df[(df['room_type'].isin(['Shared room', 'Private room'])) & (df['bathrooms'] == 0)].shape[0]))"
   ]
  },
  {
   "cell_type": "code",
   "execution_count": 103,
   "metadata": {},
   "outputs": [],
   "source": [
    "df = df[~((df['bathrooms'] == 0) & (~df['room_type'].isin(['Private room', 'Shared room'])))]"
   ]
  },
  {
   "cell_type": "code",
   "execution_count": 104,
   "metadata": {},
   "outputs": [],
   "source": [
    "df = df.dropna(subset=['bathrooms'])"
   ]
  },
  {
   "cell_type": "markdown",
   "metadata": {},
   "source": [
    "#### 6. Amenities"
   ]
  },
  {
   "cell_type": "code",
   "execution_count": 105,
   "metadata": {},
   "outputs": [],
   "source": [
    "df['amenities_count'] = df['amenities'].apply(lambda x: len(x.split(',')))\n",
    "\n",
    "df = df.drop('amenities', axis=1)"
   ]
  },
  {
   "cell_type": "markdown",
   "metadata": {},
   "source": [
    "### 7. Price per Person"
   ]
  },
  {
   "cell_type": "code",
   "execution_count": 106,
   "metadata": {},
   "outputs": [],
   "source": [
    "price_per_person = df['price']/df['accommodates']\n",
    "\n",
    "df['price_per_person'] = price_per_person"
   ]
  },
  {
   "cell_type": "code",
   "execution_count": 107,
   "metadata": {},
   "outputs": [
    {
     "name": "stdout",
     "output_type": "stream",
     "text": [
      "<class 'pandas.core.frame.DataFrame'>\n",
      "Index: 45514 entries, 0 to 95456\n",
      "Data columns (total 12 columns):\n",
      " #   Column                  Non-Null Count  Dtype  \n",
      "---  ------                  --------------  -----  \n",
      " 0   id                      45514 non-null  int64  \n",
      " 1   neighbourhood_cleansed  45514 non-null  object \n",
      " 2   room_type               45514 non-null  object \n",
      " 3   accommodates            45514 non-null  int64  \n",
      " 4   bathrooms               45514 non-null  float64\n",
      " 5   price                   45514 non-null  float64\n",
      " 6   beds                    45514 non-null  float64\n",
      " 7   number_of_reviews       45514 non-null  int64  \n",
      " 8   review_scores_rating    45514 non-null  float64\n",
      " 9   bedrooms                45514 non-null  float64\n",
      " 10  amenities_count         45514 non-null  int64  \n",
      " 11  price_per_person        45514 non-null  float64\n",
      "dtypes: float64(6), int64(4), object(2)\n",
      "memory usage: 4.5+ MB\n"
     ]
    }
   ],
   "source": [
    "df.info()"
   ]
  },
  {
   "cell_type": "markdown",
   "metadata": {},
   "source": [
    "### 7. Cleaned csv"
   ]
  },
  {
   "cell_type": "code",
   "execution_count": 108,
   "metadata": {},
   "outputs": [],
   "source": [
    "clean_df_name = \"./data/clean_df.csv\"\n",
    "\n",
    "if os.path.exists(clean_df_name):\n",
    "    os.remove(clean_df_name)\n",
    "\n",
    "df.to_csv(clean_df_name, index=False)"
   ]
  },
  {
   "cell_type": "code",
   "execution_count": 109,
   "metadata": {},
   "outputs": [],
   "source": [
    "df = pd.read_csv(clean_df_name)"
   ]
  },
  {
   "cell_type": "code",
   "execution_count": 110,
   "metadata": {},
   "outputs": [
    {
     "name": "stdout",
     "output_type": "stream",
     "text": [
      "Number of room types : 4\n",
      "\n",
      "room_type\n",
      "Entire home/apt    41123\n",
      "Private room        3846\n",
      "Hotel room           369\n",
      "Shared room          176\n",
      "Name: count, dtype: int64\n"
     ]
    },
    {
     "name": "stderr",
     "output_type": "stream",
     "text": [
      "C:\\Users\\Aymane\\AppData\\Local\\Temp\\ipykernel_17544\\965599796.py:7: FutureWarning: \n",
      "\n",
      "Passing `palette` without assigning `hue` is deprecated and will be removed in v0.14.0. Assign the `x` variable to `hue` and set `legend=False` for the same effect.\n",
      "\n",
      "  sns.catplot(x = \"room_type\", data = df, kind = \"count\", palette=\"Set2\")\n"
     ]
    },
    {
     "data": {
      "text/plain": [
       "<seaborn.axisgrid.FacetGrid at 0x28d2e248860>"
      ]
     },
     "execution_count": 110,
     "metadata": {},
     "output_type": "execute_result"
    },
    {
     "data": {
      "image/png": "[encoded data removed]",
      "text/plain": [
       "<Figure size 500x500 with 1 Axes>"
      ]
     },
     "metadata": {},
     "output_type": "display_data"
    }
   ],
   "source": [
    "# Number of room types\n",
    "print(\"Number of room types :\", len(df[\"room_type\"].unique()))\n",
    "print()\n",
    "\n",
    "# Number of listings of each room type\n",
    "print(df[\"room_type\"].value_counts())\n",
    "sns.catplot(x = \"room_type\", data = df, kind = \"count\", palette=\"Set2\")"
   ]
  },
  {
   "cell_type": "code",
   "execution_count": 111,
   "metadata": {},
   "outputs": [
    {
     "data": {
      "image/png": "[encoded data removed]",
      "text/plain": [
       "<Figure size 1500x700 with 2 Axes>"
      ]
     },
     "metadata": {},
     "output_type": "display_data"
    }
   ],
   "source": [
    "fig, axes = plt.subplots(1, 2, figsize=(15, 7))\n",
    "\n",
    "# sns.histplot(df['price'], kde=True, ax=axes[0])\n",
    "# axes[0].set_title('Price distribution')\n",
    "\n",
    "sns.histplot(df['price'][df['price'] < 500], kde=True, ax=axes[1])\n",
    "axes[1].set_title('Price distribution with label thresholding')\n",
    "\n",
    "plt.show()"
   ]
  },
  {
   "cell_type": "code",
   "execution_count": 112,
   "metadata": {},
   "outputs": [
    {
     "name": "stdout",
     "output_type": "stream",
     "text": [
      "         room_type        mean  median\n",
      "0  Entire home/apt  218.359215   150.0\n",
      "1       Hotel room  267.769648   246.0\n",
      "2     Private room  160.282111   100.0\n",
      "3      Shared room  102.784091    50.0\n"
     ]
    },
    {
     "data": {
      "image/png": "[encoded data removed]",
      "text/plain": [
       "<Figure size 640x480 with 1 Axes>"
      ]
     },
     "metadata": {},
     "output_type": "display_data"
    }
   ],
   "source": [
    "summary = df.groupby('room_type')['price'].agg(['mean', 'median']).reset_index()\n",
    "print(summary)\n",
    "sns.barplot(data=summary, x='room_type', y='mean')\n",
    "plt.title('Prix moyen par type de chambre')\n",
    "plt.show()"
   ]
  },
  {
   "cell_type": "code",
   "execution_count": 113,
   "metadata": {},
   "outputs": [
    {
     "name": "stderr",
     "output_type": "stream",
     "text": [
      "C:\\Users\\Aymane\\AppData\\Local\\Temp\\ipykernel_17544\\3300164423.py:2: FutureWarning: \n",
      "\n",
      "The `ci` parameter is deprecated. Use `errorbar=None` for the same effect.\n",
      "\n",
      "  sns.barplot(data=df, x='neighbourhood_cleansed', y='price', ci=None)\n"
     ]
    },
    {
     "data": {
      "image/png": "[encoded data removed]",
      "text/plain": [
       "<Figure size 1200x800 with 1 Axes>"
      ]
     },
     "metadata": {},
     "output_type": "display_data"
    }
   ],
   "source": [
    "plt.figure(figsize=(12, 8))\n",
    "sns.barplot(data=df, x='neighbourhood_cleansed', y='price', ci=None)\n",
    "plt.title('Prix moyen par quartier')\n",
    "plt.xlabel('Quartier')\n",
    "plt.ylabel('Prix moyen')\n",
    "plt.xticks(rotation=90)\n",
    "plt.show()"
   ]
  },
  {
   "cell_type": "code",
   "execution_count": 114,
   "metadata": {},
   "outputs": [
    {
     "data": {
      "image/png": "[encoded data removed]",
      "text/plain": [
       "<Figure size 1000x600 with 2 Axes>"
      ]
     },
     "metadata": {},
     "output_type": "display_data"
    }
   ],
   "source": [
    "plt.figure(figsize=(10, 6))\n",
    "numeric_df = df.select_dtypes(include=[np.number]).drop(columns=['id', 'price_per_person'])\n",
    "sns.heatmap(numeric_df.corr(), annot=True, cmap=\"YlGnBu\")\n",
    "plt.show()"
   ]
  },
  {
   "cell_type": "code",
   "execution_count": 115,
   "metadata": {},
   "outputs": [
    {
     "data": {
      "text/plain": [
       "id                        0\n",
       "neighbourhood_cleansed    0\n",
       "room_type                 0\n",
       "accommodates              0\n",
       "bathrooms                 0\n",
       "price                     0\n",
       "beds                      0\n",
       "number_of_reviews         0\n",
       "review_scores_rating      0\n",
       "bedrooms                  0\n",
       "amenities_count           0\n",
       "price_per_person          0\n",
       "dtype: int64"
      ]
     },
     "execution_count": 115,
     "metadata": {},
     "output_type": "execute_result"
    }
   ],
   "source": [
    "df.isna().sum()"
   ]
  },
  {
   "cell_type": "code",
   "execution_count": 116,
   "metadata": {},
   "outputs": [
    {
     "data": {
      "text/plain": [
       "<Axes: ylabel='price'>"
      ]
     },
     "execution_count": 116,
     "metadata": {},
     "output_type": "execute_result"
    },
    {
     "data": {
      "image/png": "[encoded data removed]",
      "text/plain": [
       "<Figure size 640x480 with 1 Axes>"
      ]
     },
     "metadata": {},
     "output_type": "display_data"
    }
   ],
   "source": [
    "sns.boxplot(y=df['price'])"
   ]
  },
  {
   "cell_type": "code",
   "execution_count": 117,
   "metadata": {},
   "outputs": [],
   "source": [
    "Q1 = df['price'].quantile(0.25)\n",
    "Q3 = df['price'].quantile(0.75)\n",
    "IQR = Q3 - Q1\n",
    "lower_bound = Q1 - 1.5 * IQR\n",
    "upper_bound = Q3 + 1.5 * IQR\n",
    "df = df[(df['price'] >= lower_bound) & (df['price'] <= upper_bound)]"
   ]
  },
  {
   "cell_type": "code",
   "execution_count": 118,
   "metadata": {},
   "outputs": [
    {
     "data": {
      "text/plain": [
       "(42284, 12)"
      ]
     },
     "execution_count": 118,
     "metadata": {},
     "output_type": "execute_result"
    }
   ],
   "source": [
    "df.shape"
   ]
  },
  {
   "cell_type": "markdown",
   "metadata": {},
   "source": [
    "# Modele"
   ]
  },
  {
   "cell_type": "markdown",
   "metadata": {},
   "source": [
    "### 1. Data test"
   ]
  },
  {
   "cell_type": "code",
   "execution_count": 119,
   "metadata": {},
   "outputs": [
    {
     "name": "stderr",
     "output_type": "stream",
     "text": [
      "<>:12: SyntaxWarning: invalid escape sequence '\\$'\n",
      "<>:12: SyntaxWarning: invalid escape sequence '\\$'\n",
      "C:\\Users\\Aymane\\AppData\\Local\\Temp\\ipykernel_17544\\2592730814.py:12: SyntaxWarning: invalid escape sequence '\\$'\n",
      "  df_test_filtered['price'] = df_test_filtered['price'].replace('[\\$,]', '', regex=True).astype(float)\n",
      "C:\\Users\\Aymane\\AppData\\Local\\Temp\\ipykernel_17544\\2592730814.py:12: SettingWithCopyWarning: \n",
      "A value is trying to be set on a copy of a slice from a DataFrame.\n",
      "Try using .loc[row_indexer,col_indexer] = value instead\n",
      "\n",
      "See the caveats in the documentation: https://pandas.pydata.org/pandas-docs/stable/user_guide/indexing.html#returning-a-view-versus-a-copy\n",
      "  df_test_filtered['price'] = df_test_filtered['price'].replace('[\\$,]', '', regex=True).astype(float)\n",
      "C:\\Users\\Aymane\\AppData\\Local\\Temp\\ipykernel_17544\\2592730814.py:15: SettingWithCopyWarning: \n",
      "A value is trying to be set on a copy of a slice from a DataFrame.\n",
      "Try using .loc[row_indexer,col_indexer] = value instead\n",
      "\n",
      "See the caveats in the documentation: https://pandas.pydata.org/pandas-docs/stable/user_guide/indexing.html#returning-a-view-versus-a-copy\n",
      "  df_test_filtered['amenities_count'] = df_test_filtered['amenities'].apply(lambda x: len(eval(x)))\n",
      "C:\\Users\\Aymane\\AppData\\Local\\Temp\\ipykernel_17544\\2592730814.py:18: SettingWithCopyWarning: \n",
      "A value is trying to be set on a copy of a slice from a DataFrame.\n",
      "Try using .loc[row_indexer,col_indexer] = value instead\n",
      "\n",
      "See the caveats in the documentation: https://pandas.pydata.org/pandas-docs/stable/user_guide/indexing.html#returning-a-view-versus-a-copy\n",
      "  df_test_filtered['price_per_person'] = df_test_filtered['price'] / df_test_filtered['accommodates']\n"
     ]
    },
    {
     "data": {
      "text/html": [
       "<div>\n",
       "<style scoped>\n",
       "    .dataframe tbody tr th:only-of-type {\n",
       "        vertical-align: middle;\n",
       "    }\n",
       "\n",
       "    .dataframe tbody tr th {\n",
       "        vertical-align: top;\n",
       "    }\n",
       "\n",
       "    .dataframe thead th {\n",
       "        text-align: right;\n",
       "    }\n",
       "</style>\n",
       "<table border=\"1\" class=\"dataframe\">\n",
       "  <thead>\n",
       "    <tr style=\"text-align: right;\">\n",
       "      <th></th>\n",
       "      <th>id</th>\n",
       "      <th>price</th>\n",
       "      <th>amenities</th>\n",
       "      <th>neighbourhood_cleansed</th>\n",
       "      <th>room_type</th>\n",
       "      <th>accommodates</th>\n",
       "      <th>bathrooms</th>\n",
       "      <th>beds</th>\n",
       "      <th>number_of_reviews_ltm</th>\n",
       "      <th>review_scores_rating</th>\n",
       "      <th>bedrooms</th>\n",
       "      <th>amenities_count</th>\n",
       "      <th>price_per_person</th>\n",
       "    </tr>\n",
       "  </thead>\n",
       "  <tbody>\n",
       "    <tr>\n",
       "      <th>0</th>\n",
       "      <td>80260</td>\n",
       "      <td>NaN</td>\n",
       "      <td>[\"Hangers\", \"Essentials\", \"Wifi\", \"Dishes and silverware\", \"Dedicated workspace\", \"Hair dryer\", \"Kitchen\", \"Shampoo\", \"Pets allowed\", \"Heating\"]</td>\n",
       "      <td>Ménilmontant</td>\n",
       "      <td>Entire home/apt</td>\n",
       "      <td>3</td>\n",
       "      <td>NaN</td>\n",
       "      <td>NaN</td>\n",
       "      <td>0</td>\n",
       "      <td>4.63</td>\n",
       "      <td>1.0</td>\n",
       "      <td>10</td>\n",
       "      <td>NaN</td>\n",
       "    </tr>\n",
       "    <tr>\n",
       "      <th>1</th>\n",
       "      <td>3109</td>\n",
       "      <td>250.0</td>\n",
       "      <td>[\"Smart lock\", \"Smoke alarm\", \"Cooking basics\", \"Hangers\", \"Wifi\", \"Dishes and silverware\", \"Hair dryer\", \"Children\\u2019s books and toys\", \"Kitchen\", \"Washer\", \"Paid parking off premises\", \"Hot water\", \"Luggage dropoff allowed\", \"Self check-in\", \"Iron\"]</td>\n",
       "      <td>Observatoire</td>\n",
       "      <td>Entire home/apt</td>\n",
       "      <td>2</td>\n",
       "      <td>1.0</td>\n",
       "      <td>0.0</td>\n",
       "      <td>0</td>\n",
       "      <td>5.00</td>\n",
       "      <td>1.0</td>\n",
       "      <td>15</td>\n",
       "      <td>125.0</td>\n",
       "    </tr>\n",
       "    <tr>\n",
       "      <th>2</th>\n",
       "      <td>80301</td>\n",
       "      <td>60.0</td>\n",
       "      <td>[\"Stove\", \"Host greets you\", \"Extra pillows and blankets\", \"TV with standard cable\", \"Refrigerator\", \"Microwave\", \"Washer\", \"Pocket wifi\", \"Paid parking off premises\", \"Luggage dropoff allowed\", \"Cooking basics\", \"Wifi\", \"Carbon monoxide alarm\", \"Coffee maker\", \"Dishwasher\", \"Hangers\", \"Pack \\u2019n play/Travel crib\", \"Dishes and silverware\", \"Kitchen\", \"Oven\", \"Long term stays allowed\", \"Cleaning available during stay\", \"Heating\", \"Hot water\", \"Iron\", \"Smoke alarm\", \"Essentials\", \"Hair dryer\", \"Private patio or balcony\", \"Bed linens\"]</td>\n",
       "      <td>Panthéon</td>\n",
       "      <td>Private room</td>\n",
       "      <td>1</td>\n",
       "      <td>1.5</td>\n",
       "      <td>1.0</td>\n",
       "      <td>1</td>\n",
       "      <td>4.83</td>\n",
       "      <td>1.0</td>\n",
       "      <td>30</td>\n",
       "      <td>60.0</td>\n",
       "    </tr>\n",
       "    <tr>\n",
       "      <th>3</th>\n",
       "      <td>5396</td>\n",
       "      <td>96.0</td>\n",
       "      <td>[\"Stove\", \"Host greets you\", \"Extra pillows and blankets\", \"TV with standard cable\", \"Refrigerator\", \"Washer\", \"Cooking basics\", \"Wifi\", \"Dedicated workspace\", \"Clothing storage: closet\", \"First aid kit\", \"Cleaning products\", \"Baking sheet\", \"Toaster\", \"Hangers\", \"Dishes and silverware\", \"Coffee\", \"Shower gel\", \"Kitchen\", \"Oven\", \"Long term stays allowed\", \"Heating\", \"Fire extinguisher\", \"Hot water\", \"Iron\", \"Smoke alarm\", \"Hot water kettle\", \"Essentials\", \"Drying rack for clothing\", \"Hair dryer\", \"Shampoo\", \"Coffee maker: espresso machine, pour-over coffee\", \"Portable fans\", \"Body soap\", \"Books and reading material\", \"Bed linens\", \"Wine glasses\"]</td>\n",
       "      <td>Hôtel-de-Ville</td>\n",
       "      <td>Entire home/apt</td>\n",
       "      <td>2</td>\n",
       "      <td>1.0</td>\n",
       "      <td>1.0</td>\n",
       "      <td>64</td>\n",
       "      <td>4.61</td>\n",
       "      <td>0.0</td>\n",
       "      <td>37</td>\n",
       "      <td>48.0</td>\n",
       "    </tr>\n",
       "    <tr>\n",
       "      <th>4</th>\n",
       "      <td>7397</td>\n",
       "      <td>160.0</td>\n",
       "      <td>[\"Stove\", \"Host greets you\", \"Extra pillows and blankets\", \"TV with standard cable\", \"Refrigerator\", \"Microwave\", \"Paid parking off premises\", \"Cooking basics\", \"Wifi\", \"Dedicated workspace\", \"Free washer \\u2013 In unit\", \"Dryer\", \"Coffee maker\", \"Hangers\", \"Dishes and silverware\", \"Kitchen\", \"Oven\", \"Heating\", \"Hot water\", \"Iron\", \"Smoke alarm\", \"Essentials\", \"Hair dryer\", \"Shampoo\", \"Bed linens\"]</td>\n",
       "      <td>Hôtel-de-Ville</td>\n",
       "      <td>Entire home/apt</td>\n",
       "      <td>4</td>\n",
       "      <td>1.0</td>\n",
       "      <td>1.0</td>\n",
       "      <td>21</td>\n",
       "      <td>4.73</td>\n",
       "      <td>2.0</td>\n",
       "      <td>25</td>\n",
       "      <td>40.0</td>\n",
       "    </tr>\n",
       "  </tbody>\n",
       "</table>\n",
       "</div>"
      ],
      "text/plain": [
       "      id  price  \\\n",
       "0  80260    NaN   \n",
       "1   3109  250.0   \n",
       "2  80301   60.0   \n",
       "3   5396   96.0   \n",
       "4   7397  160.0   \n",
       "\n",
       "                                                                                                                                                                                                                                                                                                                                                                                                                                                                                                                                                                                                                                                                         amenities  \\\n",
       "0                                                                                                                                                                                                                                                                                                                                                                                                                                                                                                                                 [\"Hangers\", \"Essentials\", \"Wifi\", \"Dishes and silverware\", \"Dedicated workspace\", \"Hair dryer\", \"Kitchen\", \"Shampoo\", \"Pets allowed\", \"Heating\"]   \n",
       "1                                                                                                                                                                                                                                                                                                                                                                                                                   [\"Smart lock\", \"Smoke alarm\", \"Cooking basics\", \"Hangers\", \"Wifi\", \"Dishes and silverware\", \"Hair dryer\", \"Children\\u2019s books and toys\", \"Kitchen\", \"Washer\", \"Paid parking off premises\", \"Hot water\", \"Luggage dropoff allowed\", \"Self check-in\", \"Iron\"]   \n",
       "2                                                                                                                    [\"Stove\", \"Host greets you\", \"Extra pillows and blankets\", \"TV with standard cable\", \"Refrigerator\", \"Microwave\", \"Washer\", \"Pocket wifi\", \"Paid parking off premises\", \"Luggage dropoff allowed\", \"Cooking basics\", \"Wifi\", \"Carbon monoxide alarm\", \"Coffee maker\", \"Dishwasher\", \"Hangers\", \"Pack \\u2019n play/Travel crib\", \"Dishes and silverware\", \"Kitchen\", \"Oven\", \"Long term stays allowed\", \"Cleaning available during stay\", \"Heating\", \"Hot water\", \"Iron\", \"Smoke alarm\", \"Essentials\", \"Hair dryer\", \"Private patio or balcony\", \"Bed linens\"]   \n",
       "3  [\"Stove\", \"Host greets you\", \"Extra pillows and blankets\", \"TV with standard cable\", \"Refrigerator\", \"Washer\", \"Cooking basics\", \"Wifi\", \"Dedicated workspace\", \"Clothing storage: closet\", \"First aid kit\", \"Cleaning products\", \"Baking sheet\", \"Toaster\", \"Hangers\", \"Dishes and silverware\", \"Coffee\", \"Shower gel\", \"Kitchen\", \"Oven\", \"Long term stays allowed\", \"Heating\", \"Fire extinguisher\", \"Hot water\", \"Iron\", \"Smoke alarm\", \"Hot water kettle\", \"Essentials\", \"Drying rack for clothing\", \"Hair dryer\", \"Shampoo\", \"Coffee maker: espresso machine, pour-over coffee\", \"Portable fans\", \"Body soap\", \"Books and reading material\", \"Bed linens\", \"Wine glasses\"]   \n",
       "4                                                                                                                                                                                                                                                                [\"Stove\", \"Host greets you\", \"Extra pillows and blankets\", \"TV with standard cable\", \"Refrigerator\", \"Microwave\", \"Paid parking off premises\", \"Cooking basics\", \"Wifi\", \"Dedicated workspace\", \"Free washer \\u2013 In unit\", \"Dryer\", \"Coffee maker\", \"Hangers\", \"Dishes and silverware\", \"Kitchen\", \"Oven\", \"Heating\", \"Hot water\", \"Iron\", \"Smoke alarm\", \"Essentials\", \"Hair dryer\", \"Shampoo\", \"Bed linens\"]   \n",
       "\n",
       "  neighbourhood_cleansed        room_type  accommodates  bathrooms  beds  \\\n",
       "0           Ménilmontant  Entire home/apt             3        NaN   NaN   \n",
       "1           Observatoire  Entire home/apt             2        1.0   0.0   \n",
       "2               Panthéon     Private room             1        1.5   1.0   \n",
       "3         Hôtel-de-Ville  Entire home/apt             2        1.0   1.0   \n",
       "4         Hôtel-de-Ville  Entire home/apt             4        1.0   1.0   \n",
       "\n",
       "   number_of_reviews_ltm  review_scores_rating  bedrooms  amenities_count  \\\n",
       "0                      0                  4.63       1.0               10   \n",
       "1                      0                  5.00       1.0               15   \n",
       "2                      1                  4.83       1.0               30   \n",
       "3                     64                  4.61       0.0               37   \n",
       "4                     21                  4.73       2.0               25   \n",
       "\n",
       "   price_per_person  \n",
       "0               NaN  \n",
       "1             125.0  \n",
       "2              60.0  \n",
       "3              48.0  \n",
       "4              40.0  "
      ]
     },
     "execution_count": 119,
     "metadata": {},
     "output_type": "execute_result"
    }
   ],
   "source": [
    "pd.set_option('display.max_rows', None)\n",
    "pd.set_option('display.max_columns', None)\n",
    "pd.set_option('display.max_colwidth', None)\n",
    "pd.set_option('display.width', None)\n",
    "\n",
    "df_test = pd.read_csv('./data/listings2.csv')\n",
    "\n",
    "df_test_filtered = df_test[['id','price', 'amenities', 'neighbourhood_cleansed', 'room_type', 'accommodates', 'bathrooms', 'beds', 'number_of_reviews_ltm', 'review_scores_rating', 'bedrooms']]\n",
    "# Convert price to a numeric value if it's stored as a string with symbols like '$'\n",
    "# Count the number of amenities\n",
    "# Convert price to a numeric value if it's stored as a string with symbols like '$'\n",
    "df_test_filtered['price'] = df_test_filtered['price'].replace('[\\$,]', '', regex=True).astype(float)\n",
    "\n",
    "# Count the number of amenities\n",
    "df_test_filtered['amenities_count'] = df_test_filtered['amenities'].apply(lambda x: len(eval(x)))\n",
    "\n",
    "# Calculate price per person\n",
    "df_test_filtered['price_per_person'] = df_test_filtered['price'] / df_test_filtered['accommodates']\n",
    "\n",
    "# Display the updated DataFrame\n",
    "df_test_filtered.head()"
   ]
  },
  {
   "cell_type": "markdown",
   "metadata": {},
   "source": [
    "## 2. Linear Regression"
   ]
  },
  {
   "cell_type": "code",
   "execution_count": 120,
   "metadata": {},
   "outputs": [
    {
     "name": "stdout",
     "output_type": "stream",
     "text": [
      "RMSE: 30.383068646628264\n",
      "MAE: 19.402075279325526\n",
      "R²: 0.8695348448115462\n"
     ]
    }
   ],
   "source": [
    "df = df.drop('id', axis=1)\n",
    "\n",
    "y = df['price']\n",
    "X = df.drop(['price'], axis=1)\n",
    "\n",
    "# Identifier les colonnes numériques et catégoriques\n",
    "numeric_features = X.select_dtypes(include=['int64', 'float64']).columns\n",
    "categorical_features = X.select_dtypes(include=['object']).columns\n",
    "\n",
    "# Créer un préprocesseur pour transformer les colonnes\n",
    "preprocessor = ColumnTransformer(\n",
    "    transformers=[\n",
    "        ('num', StandardScaler(), numeric_features),\n",
    "        ('cat', OneHotEncoder(handle_unknown='ignore'), categorical_features)\n",
    "    ]\n",
    ")\n",
    "\n",
    "# Créer un pipeline avec préprocessing et modèle\n",
    "pipeline = Pipeline(steps=[\n",
    "    ('preprocessor', preprocessor),\n",
    "    ('model', LinearRegression())\n",
    "])\n",
    "\n",
    "# Diviser les données en ensembles d'entraînement et de test\n",
    "X_train, X_test, y_train, y_test = train_test_split(X, y, shuffle=True, random_state=42, test_size=0.2)\n",
    "\n",
    "# Entraîner le modèle\n",
    "pipeline.fit(X_train, y_train)\n",
    "\n",
    "# Faire des prédictions\n",
    "y_pred = pipeline.predict(X_test)\n",
    "\n",
    "# Évaluer les performances\n",
    "rmse = np.sqrt(mean_squared_error(y_test, y_pred))\n",
    "mae = mean_absolute_error(y_test, y_pred)\n",
    "r2 = r2_score(y_test, y_pred)\n",
    "\n",
    "print(f\"RMSE: {rmse}\")\n",
    "print(f\"MAE: {mae}\")\n",
    "print(f\"R²: {r2}\")"
   ]
  },
  {
   "cell_type": "markdown",
   "metadata": {},
   "source": [
    "## 2.1 Linear Regression prediction with test data"
   ]
  },
  {
   "cell_type": "code",
   "execution_count": 121,
   "metadata": {},
   "outputs": [
    {
     "name": "stdout",
     "output_type": "stream",
     "text": [
      "Predicted price with sample 1 : 262.18979547227445\n",
      "Predicted price with sample 2: 172.624746479461\n"
     ]
    }
   ],
   "source": [
    "# Saisir manuellement une nouvelle donnée pour prédiction\n",
    "linear_regression_data_manual = pd.DataFrame({\n",
    "    'neighbourhood_cleansed': ['Observatoire'],\n",
    "    'room_type': ['Entire home/apt'],\n",
    "    'accommodates': [2],\n",
    "    'bathrooms': [1.0],\n",
    "    'beds': [1.0],\n",
    "    'number_of_reviews': [0],\n",
    "    'review_scores_rating': [5.0],\n",
    "    'bedrooms': [1.0],\n",
    "    'amenities_count': [14],\n",
    "    'price_per_person': [125.0]\n",
    "})\n",
    "\n",
    "# Faire une prédiction avec la nouvelle donnée\n",
    "predicted_price_rf = pipeline.predict(linear_regression_data_manual)\n",
    "print(f\"Predicted price with sample 1 : {predicted_price_rf[0]}\")\n",
    "\n",
    "# Saisir manuellement une nouvelle donnée pour prédiction\n",
    "# 21\t4.73\t2.0\t25\t40.0\n",
    "linear_regression_data_manual = pd.DataFrame({\n",
    "    'neighbourhood_cleansed': ['Hôtel-de-Ville'],\n",
    "    'room_type': ['Entire home/apt'],\n",
    "    'accommodates': [4],\n",
    "    'bathrooms': [1.0],\n",
    "    'beds': [1.0],\n",
    "    'number_of_reviews': [21],\n",
    "    'review_scores_rating': [4.73],\n",
    "    'bedrooms': [2.0],\n",
    "    'amenities_count': [25],\n",
    "    'price_per_person': [40.0]\n",
    "})\n",
    "\n",
    "# Faire une prédiction avec la nouvelle donnée\n",
    "predicted_price_rf = pipeline.predict(linear_regression_data_manual)\n",
    "print(f\"Predicted price with sample 2: {predicted_price_rf[0]}\")"
   ]
  },
  {
   "cell_type": "markdown",
   "metadata": {},
   "source": [
    "## 3. Random Forest"
   ]
  },
  {
   "cell_type": "code",
   "execution_count": 122,
   "metadata": {},
   "outputs": [
    {
     "name": "stdout",
     "output_type": "stream",
     "text": [
      "Random Forest RMSE: 1.5211574602647941\n",
      "Random Forest MAE: 0.1600756769540028\n",
      "Random Forest R²: 0.9996729760131344\n"
     ]
    }
   ],
   "source": [
    "# Random Forest Regressor\n",
    "from sklearn.ensemble import RandomForestRegressor\n",
    "from sklearn.model_selection import GridSearchCV\n",
    "\n",
    "# Modèle Random Forest\n",
    "rf_model = RandomForestRegressor(random_state=42)\n",
    "\n",
    "# Pipeline avec le modèle Random Forest\n",
    "pipeline_rf = Pipeline(steps=[\n",
    "    ('preprocessor', preprocessor),\n",
    "    ('model', rf_model)\n",
    "])\n",
    "\n",
    "# Recherche des meilleurs hyperparamètres (Grid Search)\n",
    "param_grid = {\n",
    "    'model__n_estimators': [50, 100, 200],\n",
    "    'model__max_depth': [10, 20, 30, None]\n",
    "}\n",
    "\n",
    "grid_search = GridSearchCV(pipeline_rf, param_grid, cv=5, scoring='neg_root_mean_squared_error')\n",
    "grid_search.fit(X_train, y_train)\n",
    "\n",
    "# Meilleur modèle\n",
    "best_model = grid_search.best_estimator_\n",
    "\n",
    "# Prédictions\n",
    "y_pred_rf = best_model.predict(X_test)\n",
    "\n",
    "# Évaluation\n",
    "rmse_rf = np.sqrt(mean_squared_error(y_test, y_pred_rf))\n",
    "mae_rf = mean_absolute_error(y_test, y_pred_rf)\n",
    "r2_rf = r2_score(y_test, y_pred_rf)\n",
    "\n",
    "print(f\"Random Forest RMSE: {rmse_rf}\")\n",
    "print(f\"Random Forest MAE: {mae_rf}\")\n",
    "print(f\"Random Forest R²: {r2_rf}\")\n"
   ]
  },
  {
   "cell_type": "code",
   "execution_count": null,
   "metadata": {},
   "outputs": [
    {
     "data": {
      "text/html": [
       "<style>#sk-container-id-2 {\n",
       "  /* Definition of color scheme common for light and dark mode */\n",
       "  --sklearn-color-text: #000;\n",
       "  --sklearn-color-text-muted: #666;\n",
       "  --sklearn-color-line: gray;\n",
       "  /* Definition of color scheme for unfitted estimators */\n",
       "  --sklearn-color-unfitted-level-0: #fff5e6;\n",
       "  --sklearn-color-unfitted-level-1: #f6e4d2;\n",
       "  --sklearn-color-unfitted-level-2: #ffe0b3;\n",
       "  --sklearn-color-unfitted-level-3: chocolate;\n",
       "  /* Definition of color scheme for fitted estimators */\n",
       "  --sklearn-color-fitted-level-0: #f0f8ff;\n",
       "  --sklearn-color-fitted-level-1: #d4ebff;\n",
       "  --sklearn-color-fitted-level-2: #b3dbfd;\n",
       "  --sklearn-color-fitted-level-3: cornflowerblue;\n",
       "\n",
       "  /* Specific color for light theme */\n",
       "  --sklearn-color-text-on-default-background: var(--sg-text-color, var(--theme-code-foreground, var(--jp-content-font-color1, black)));\n",
       "  --sklearn-color-background: var(--sg-background-color, var(--theme-background, var(--jp-layout-color0, white)));\n",
       "  --sklearn-color-border-box: var(--sg-text-color, var(--theme-code-foreground, var(--jp-content-font-color1, black)));\n",
       "  --sklearn-color-icon: #696969;\n",
       "\n",
       "  @media (prefers-color-scheme: dark) {\n",
       "    /* Redefinition of color scheme for dark theme */\n",
       "    --sklearn-color-text-on-default-background: var(--sg-text-color, var(--theme-code-foreground, var(--jp-content-font-color1, white)));\n",
       "    --sklearn-color-background: var(--sg-background-color, var(--theme-background, var(--jp-layout-color0, #111)));\n",
       "    --sklearn-color-border-box: var(--sg-text-color, var(--theme-code-foreground, var(--jp-content-font-color1, white)));\n",
       "    --sklearn-color-icon: #878787;\n",
       "  }\n",
       "}\n",
       "\n",
       "#sk-container-id-2 {\n",
       "  color: var(--sklearn-color-text);\n",
       "}\n",
       "\n",
       "#sk-container-id-2 pre {\n",
       "  padding: 0;\n",
       "}\n",
       "\n",
       "#sk-container-id-2 input.sk-hidden--visually {\n",
       "  border: 0;\n",
       "  clip: rect(1px 1px 1px 1px);\n",
       "  clip: rect(1px, 1px, 1px, 1px);\n",
       "  height: 1px;\n",
       "  margin: -1px;\n",
       "  overflow: hidden;\n",
       "  padding: 0;\n",
       "  position: absolute;\n",
       "  width: 1px;\n",
       "}\n",
       "\n",
       "#sk-container-id-2 div.sk-dashed-wrapped {\n",
       "  border: 1px dashed var(--sklearn-color-line);\n",
       "  margin: 0 0.4em 0.5em 0.4em;\n",
       "  box-sizing: border-box;\n",
       "  padding-bottom: 0.4em;\n",
       "  background-color: var(--sklearn-color-background);\n",
       "}\n",
       "\n",
       "#sk-container-id-2 div.sk-container {\n",
       "  /* jupyter's `normalize.less` sets `[hidden] { display: none; }`\n",
       "     but bootstrap.min.css set `[hidden] { display: none !important; }`\n",
       "     so we also need the `!important` here to be able to override the\n",
       "     default hidden behavior on the sphinx rendered scikit-learn.org.\n",
       "     See: https://github.com/scikit-learn/scikit-learn/issues/21755 */\n",
       "  display: inline-block !important;\n",
       "  position: relative;\n",
       "}\n",
       "\n",
       "#sk-container-id-2 div.sk-text-repr-fallback {\n",
       "  display: none;\n",
       "}\n",
       "\n",
       "div.sk-parallel-item,\n",
       "div.sk-serial,\n",
       "div.sk-item {\n",
       "  /* draw centered vertical line to link estimators */\n",
       "  background-image: linear-gradient(var(--sklearn-color-text-on-default-background), var(--sklearn-color-text-on-default-background));\n",
       "  background-size: 2px 100%;\n",
       "  background-repeat: no-repeat;\n",
       "  background-position: center center;\n",
       "}\n",
       "\n",
       "/* Parallel-specific style estimator block */\n",
       "\n",
       "#sk-container-id-2 div.sk-parallel-item::after {\n",
       "  content: \"\";\n",
       "  width: 100%;\n",
       "  border-bottom: 2px solid var(--sklearn-color-text-on-default-background);\n",
       "  flex-grow: 1;\n",
       "}\n",
       "\n",
       "#sk-container-id-2 div.sk-parallel {\n",
       "  display: flex;\n",
       "  align-items: stretch;\n",
       "  justify-content: center;\n",
       "  background-color: var(--sklearn-color-background);\n",
       "  position: relative;\n",
       "}\n",
       "\n",
       "#sk-container-id-2 div.sk-parallel-item {\n",
       "  display: flex;\n",
       "  flex-direction: column;\n",
       "}\n",
       "\n",
       "#sk-container-id-2 div.sk-parallel-item:first-child::after {\n",
       "  align-self: flex-end;\n",
       "  width: 50%;\n",
       "}\n",
       "\n",
       "#sk-container-id-2 div.sk-parallel-item:last-child::after {\n",
       "  align-self: flex-start;\n",
       "  width: 50%;\n",
       "}\n",
       "\n",
       "#sk-container-id-2 div.sk-parallel-item:only-child::after {\n",
       "  width: 0;\n",
       "}\n",
       "\n",
       "/* Serial-specific style estimator block */\n",
       "\n",
       "#sk-container-id-2 div.sk-serial {\n",
       "  display: flex;\n",
       "  flex-direction: column;\n",
       "  align-items: center;\n",
       "  background-color: var(--sklearn-color-background);\n",
       "  padding-right: 1em;\n",
       "  padding-left: 1em;\n",
       "}\n",
       "\n",
       "\n",
       "/* Toggleable style: style used for estimator/Pipeline/ColumnTransformer box that is\n",
       "clickable and can be expanded/collapsed.\n",
       "- Pipeline and ColumnTransformer use this feature and define the default style\n",
       "- Estimators will overwrite some part of the style using the `sk-estimator` class\n",
       "*/\n",
       "\n",
       "/* Pipeline and ColumnTransformer style (default) */\n",
       "\n",
       "#sk-container-id-2 div.sk-toggleable {\n",
       "  /* Default theme specific background. It is overwritten whether we have a\n",
       "  specific estimator or a Pipeline/ColumnTransformer */\n",
       "  background-color: var(--sklearn-color-background);\n",
       "}\n",
       "\n",
       "/* Toggleable label */\n",
       "#sk-container-id-2 label.sk-toggleable__label {\n",
       "  cursor: pointer;\n",
       "  display: flex;\n",
       "  width: 100%;\n",
       "  margin-bottom: 0;\n",
       "  padding: 0.5em;\n",
       "  box-sizing: border-box;\n",
       "  text-align: center;\n",
       "  align-items: start;\n",
       "  justify-content: space-between;\n",
       "  gap: 0.5em;\n",
       "}\n",
       "\n",
       "#sk-container-id-2 label.sk-toggleable__label .caption {\n",
       "  font-size: 0.6rem;\n",
       "  font-weight: lighter;\n",
       "  color: var(--sklearn-color-text-muted);\n",
       "}\n",
       "\n",
       "#sk-container-id-2 label.sk-toggleable__label-arrow:before {\n",
       "  /* Arrow on the left of the label */\n",
       "  content: \"▸\";\n",
       "  float: left;\n",
       "  margin-right: 0.25em;\n",
       "  color: var(--sklearn-color-icon);\n",
       "}\n",
       "\n",
       "#sk-container-id-2 label.sk-toggleable__label-arrow:hover:before {\n",
       "  color: var(--sklearn-color-text);\n",
       "}\n",
       "\n",
       "/* Toggleable content - dropdown */\n",
       "\n",
       "#sk-container-id-2 div.sk-toggleable__content {\n",
       "  max-height: 0;\n",
       "  max-width: 0;\n",
       "  overflow: hidden;\n",
       "  text-align: left;\n",
       "  /* unfitted */\n",
       "  background-color: var(--sklearn-color-unfitted-level-0);\n",
       "}\n",
       "\n",
       "#sk-container-id-2 div.sk-toggleable__content.fitted {\n",
       "  /* fitted */\n",
       "  background-color: var(--sklearn-color-fitted-level-0);\n",
       "}\n",
       "\n",
       "#sk-container-id-2 div.sk-toggleable__content pre {\n",
       "  margin: 0.2em;\n",
       "  border-radius: 0.25em;\n",
       "  color: var(--sklearn-color-text);\n",
       "  /* unfitted */\n",
       "  background-color: var(--sklearn-color-unfitted-level-0);\n",
       "}\n",
       "\n",
       "#sk-container-id-2 div.sk-toggleable__content.fitted pre {\n",
       "  /* unfitted */\n",
       "  background-color: var(--sklearn-color-fitted-level-0);\n",
       "}\n",
       "\n",
       "#sk-container-id-2 input.sk-toggleable__control:checked~div.sk-toggleable__content {\n",
       "  /* Expand drop-down */\n",
       "  max-height: 200px;\n",
       "  max-width: 100%;\n",
       "  overflow: auto;\n",
       "}\n",
       "\n",
       "#sk-container-id-2 input.sk-toggleable__control:checked~label.sk-toggleable__label-arrow:before {\n",
       "  content: \"▾\";\n",
       "}\n",
       "\n",
       "/* Pipeline/ColumnTransformer-specific style */\n",
       "\n",
       "#sk-container-id-2 div.sk-label input.sk-toggleable__control:checked~label.sk-toggleable__label {\n",
       "  color: var(--sklearn-color-text);\n",
       "  background-color: var(--sklearn-color-unfitted-level-2);\n",
       "}\n",
       "\n",
       "#sk-container-id-2 div.sk-label.fitted input.sk-toggleable__control:checked~label.sk-toggleable__label {\n",
       "  background-color: var(--sklearn-color-fitted-level-2);\n",
       "}\n",
       "\n",
       "/* Estimator-specific style */\n",
       "\n",
       "/* Colorize estimator box */\n",
       "#sk-container-id-2 div.sk-estimator input.sk-toggleable__control:checked~label.sk-toggleable__label {\n",
       "  /* unfitted */\n",
       "  background-color: var(--sklearn-color-unfitted-level-2);\n",
       "}\n",
       "\n",
       "#sk-container-id-2 div.sk-estimator.fitted input.sk-toggleable__control:checked~label.sk-toggleable__label {\n",
       "  /* fitted */\n",
       "  background-color: var(--sklearn-color-fitted-level-2);\n",
       "}\n",
       "\n",
       "#sk-container-id-2 div.sk-label label.sk-toggleable__label,\n",
       "#sk-container-id-2 div.sk-label label {\n",
       "  /* The background is the default theme color */\n",
       "  color: var(--sklearn-color-text-on-default-background);\n",
       "}\n",
       "\n",
       "/* On hover, darken the color of the background */\n",
       "#sk-container-id-2 div.sk-label:hover label.sk-toggleable__label {\n",
       "  color: var(--sklearn-color-text);\n",
       "  background-color: var(--sklearn-color-unfitted-level-2);\n",
       "}\n",
       "\n",
       "/* Label box, darken color on hover, fitted */\n",
       "#sk-container-id-2 div.sk-label.fitted:hover label.sk-toggleable__label.fitted {\n",
       "  color: var(--sklearn-color-text);\n",
       "  background-color: var(--sklearn-color-fitted-level-2);\n",
       "}\n",
       "\n",
       "/* Estimator label */\n",
       "\n",
       "#sk-container-id-2 div.sk-label label {\n",
       "  font-family: monospace;\n",
       "  font-weight: bold;\n",
       "  display: inline-block;\n",
       "  line-height: 1.2em;\n",
       "}\n",
       "\n",
       "#sk-container-id-2 div.sk-label-container {\n",
       "  text-align: center;\n",
       "}\n",
       "\n",
       "/* Estimator-specific */\n",
       "#sk-container-id-2 div.sk-estimator {\n",
       "  font-family: monospace;\n",
       "  border: 1px dotted var(--sklearn-color-border-box);\n",
       "  border-radius: 0.25em;\n",
       "  box-sizing: border-box;\n",
       "  margin-bottom: 0.5em;\n",
       "  /* unfitted */\n",
       "  background-color: var(--sklearn-color-unfitted-level-0);\n",
       "}\n",
       "\n",
       "#sk-container-id-2 div.sk-estimator.fitted {\n",
       "  /* fitted */\n",
       "  background-color: var(--sklearn-color-fitted-level-0);\n",
       "}\n",
       "\n",
       "/* on hover */\n",
       "#sk-container-id-2 div.sk-estimator:hover {\n",
       "  /* unfitted */\n",
       "  background-color: var(--sklearn-color-unfitted-level-2);\n",
       "}\n",
       "\n",
       "#sk-container-id-2 div.sk-estimator.fitted:hover {\n",
       "  /* fitted */\n",
       "  background-color: var(--sklearn-color-fitted-level-2);\n",
       "}\n",
       "\n",
       "/* Specification for estimator info (e.g. \"i\" and \"?\") */\n",
       "\n",
       "/* Common style for \"i\" and \"?\" */\n",
       "\n",
       ".sk-estimator-doc-link,\n",
       "a:link.sk-estimator-doc-link,\n",
       "a:visited.sk-estimator-doc-link {\n",
       "  float: right;\n",
       "  font-size: smaller;\n",
       "  line-height: 1em;\n",
       "  font-family: monospace;\n",
       "  background-color: var(--sklearn-color-background);\n",
       "  border-radius: 1em;\n",
       "  height: 1em;\n",
       "  width: 1em;\n",
       "  text-decoration: none !important;\n",
       "  margin-left: 0.5em;\n",
       "  text-align: center;\n",
       "  /* unfitted */\n",
       "  border: var(--sklearn-color-unfitted-level-1) 1pt solid;\n",
       "  color: var(--sklearn-color-unfitted-level-1);\n",
       "}\n",
       "\n",
       ".sk-estimator-doc-link.fitted,\n",
       "a:link.sk-estimator-doc-link.fitted,\n",
       "a:visited.sk-estimator-doc-link.fitted {\n",
       "  /* fitted */\n",
       "  border: var(--sklearn-color-fitted-level-1) 1pt solid;\n",
       "  color: var(--sklearn-color-fitted-level-1);\n",
       "}\n",
       "\n",
       "/* On hover */\n",
       "div.sk-estimator:hover .sk-estimator-doc-link:hover,\n",
       ".sk-estimator-doc-link:hover,\n",
       "div.sk-label-container:hover .sk-estimator-doc-link:hover,\n",
       ".sk-estimator-doc-link:hover {\n",
       "  /* unfitted */\n",
       "  background-color: var(--sklearn-color-unfitted-level-3);\n",
       "  color: var(--sklearn-color-background);\n",
       "  text-decoration: none;\n",
       "}\n",
       "\n",
       "div.sk-estimator.fitted:hover .sk-estimator-doc-link.fitted:hover,\n",
       ".sk-estimator-doc-link.fitted:hover,\n",
       "div.sk-label-container:hover .sk-estimator-doc-link.fitted:hover,\n",
       ".sk-estimator-doc-link.fitted:hover {\n",
       "  /* fitted */\n",
       "  background-color: var(--sklearn-color-fitted-level-3);\n",
       "  color: var(--sklearn-color-background);\n",
       "  text-decoration: none;\n",
       "}\n",
       "\n",
       "/* Span, style for the box shown on hovering the info icon */\n",
       ".sk-estimator-doc-link span {\n",
       "  display: none;\n",
       "  z-index: 9999;\n",
       "  position: relative;\n",
       "  font-weight: normal;\n",
       "  right: .2ex;\n",
       "  padding: .5ex;\n",
       "  margin: .5ex;\n",
       "  width: min-content;\n",
       "  min-width: 20ex;\n",
       "  max-width: 50ex;\n",
       "  color: var(--sklearn-color-text);\n",
       "  box-shadow: 2pt 2pt 4pt #999;\n",
       "  /* unfitted */\n",
       "  background: var(--sklearn-color-unfitted-level-0);\n",
       "  border: .5pt solid var(--sklearn-color-unfitted-level-3);\n",
       "}\n",
       "\n",
       ".sk-estimator-doc-link.fitted span {\n",
       "  /* fitted */\n",
       "  background: var(--sklearn-color-fitted-level-0);\n",
       "  border: var(--sklearn-color-fitted-level-3);\n",
       "}\n",
       "\n",
       ".sk-estimator-doc-link:hover span {\n",
       "  display: block;\n",
       "}\n",
       "\n",
       "/* \"?\"-specific style due to the `<a>` HTML tag */\n",
       "\n",
       "#sk-container-id-2 a.estimator_doc_link {\n",
       "  float: right;\n",
       "  font-size: 1rem;\n",
       "  line-height: 1em;\n",
       "  font-family: monospace;\n",
       "  background-color: var(--sklearn-color-background);\n",
       "  border-radius: 1rem;\n",
       "  height: 1rem;\n",
       "  width: 1rem;\n",
       "  text-decoration: none;\n",
       "  /* unfitted */\n",
       "  color: var(--sklearn-color-unfitted-level-1);\n",
       "  border: var(--sklearn-color-unfitted-level-1) 1pt solid;\n",
       "}\n",
       "\n",
       "#sk-container-id-2 a.estimator_doc_link.fitted {\n",
       "  /* fitted */\n",
       "  border: var(--sklearn-color-fitted-level-1) 1pt solid;\n",
       "  color: var(--sklearn-color-fitted-level-1);\n",
       "}\n",
       "\n",
       "/* On hover */\n",
       "#sk-container-id-2 a.estimator_doc_link:hover {\n",
       "  /* unfitted */\n",
       "  background-color: var(--sklearn-color-unfitted-level-3);\n",
       "  color: var(--sklearn-color-background);\n",
       "  text-decoration: none;\n",
       "}\n",
       "\n",
       "#sk-container-id-2 a.estimator_doc_link.fitted:hover {\n",
       "  /* fitted */\n",
       "  background-color: var(--sklearn-color-fitted-level-3);\n",
       "}\n",
       "</style><div id=\"sk-container-id-2\" class=\"sk-top-container\"><div class=\"sk-text-repr-fallback\"><pre>RandomForestRegressor(max_depth=20, n_estimators=50, random_state=42)</pre><b>In a Jupyter environment, please rerun this cell to show the HTML representation or trust the notebook. <br />On GitHub, the HTML representation is unable to render, please try loading this page with nbviewer.org.</b></div><div class=\"sk-container\" hidden><div class=\"sk-item\"><div class=\"sk-estimator fitted sk-toggleable\"><input class=\"sk-toggleable__control sk-hidden--visually\" id=\"sk-estimator-id-2\" type=\"checkbox\" checked><label for=\"sk-estimator-id-2\" class=\"sk-toggleable__label fitted sk-toggleable__label-arrow\"><div><div>RandomForestRegressor</div></div><div><a class=\"sk-estimator-doc-link fitted\" rel=\"noreferrer\" target=\"_blank\" href=\"https://scikit-learn.org/1.6/modules/generated/sklearn.ensemble.RandomForestRegressor.html\">?<span>Documentation for RandomForestRegressor</span></a><span class=\"sk-estimator-doc-link fitted\">i<span>Fitted</span></span></div></label><div class=\"sk-toggleable__content fitted\"><pre>RandomForestRegressor(max_depth=20, n_estimators=50, random_state=42)</pre></div> </div></div></div></div>"
      ],
      "text/plain": [
       "RandomForestRegressor(max_depth=20, n_estimators=50, random_state=42)"
      ]
     },
     "execution_count": 123,
     "metadata": {},
     "output_type": "execute_result"
    }
   ],
   "source": [
    "best_model.get_params()['model']"
   ]
  },
  {
   "cell_type": "markdown",
   "metadata": {},
   "source": [
    "## 3.1 Random Forest prediction with test data"
   ]
  },
  {
   "cell_type": "code",
   "execution_count": 124,
   "metadata": {},
   "outputs": [
    {
     "name": "stdout",
     "output_type": "stream",
     "text": [
      "Random Forest RMSE: 1.5595020768062369\n",
      "Random Forest MAE: 0.15700425682866218\n",
      "Random Forest R²: 0.9996562812843193\n"
     ]
    }
   ],
   "source": [
    "# Définir les variables X (caractéristiques) et y (cible)\n",
    "y = df['price']\n",
    "X = df.drop(['price'], axis=1)\n",
    "\n",
    "# Identifier les colonnes numériques et catégoriques\n",
    "numeric_features = X.select_dtypes(include=['int64', 'float64']).columns\n",
    "categorical_features = X.select_dtypes(include=['object']).columns\n",
    "\n",
    "# Créer un préprocesseur pour transformer les colonnes\n",
    "preprocessor = ColumnTransformer(\n",
    "    transformers=[\n",
    "        ('num', StandardScaler(), numeric_features),\n",
    "        ('cat', OneHotEncoder(handle_unknown='ignore'), categorical_features)\n",
    "    ]\n",
    ")\n",
    "\n",
    "# Pipeline avec Random Forest\n",
    "pipeline_rf = Pipeline(steps=[\n",
    "    ('preprocessor', preprocessor),\n",
    "    ('model', RandomForestRegressor(random_state=42, n_estimators=200, max_depth=20))\n",
    "])\n",
    "\n",
    "# Diviser les données en ensembles d'entraînement et de test\n",
    "X_train, X_test, y_train, y_test = train_test_split(X, y, shuffle=True, random_state=42, test_size=0.2)\n",
    "\n",
    "# Entraîner le modèle\n",
    "pipeline_rf.fit(X_train, y_train)\n",
    "\n",
    "# Faire des prédictions sur l'ensemble de test\n",
    "y_pred_rf = pipeline_rf.predict(X_test)\n",
    "\n",
    "# Évaluer les performances\n",
    "rmse_rf = np.sqrt(mean_squared_error(y_test, y_pred_rf))\n",
    "mae_rf = mean_absolute_error(y_test, y_pred_rf)\n",
    "r2_rf = r2_score(y_test, y_pred_rf)\n",
    "\n",
    "print(f\"Random Forest RMSE: {rmse_rf}\")\n",
    "print(f\"Random Forest MAE: {mae_rf}\")\n",
    "print(f\"Random Forest R²: {r2_rf}\")"
   ]
  },
  {
   "cell_type": "code",
   "execution_count": 125,
   "metadata": {},
   "outputs": [
    {
     "name": "stdout",
     "output_type": "stream",
     "text": [
      "Predicted price with sample 1 : 250.0\n",
      "Predicted price with sample 2: 160.0\n"
     ]
    }
   ],
   "source": [
    "\n",
    "# Saisir manuellement une nouvelle donnée pour prédiction\n",
    "rf_data = pd.DataFrame({\n",
    "    'neighbourhood_cleansed': ['Observatoire'],\n",
    "    'room_type': ['Entire home/apt'],\n",
    "    'accommodates': [2],\n",
    "    'bathrooms': [1.0],\n",
    "    'beds': [1.0],\n",
    "    'number_of_reviews': [0],\n",
    "    'review_scores_rating': [5.0],\n",
    "    'bedrooms': [1.0],\n",
    "    'amenities_count': [14],\n",
    "    'price_per_person': [125.0]\n",
    "})\n",
    "\n",
    "# Faire une prédiction avec la nouvelle donnée\n",
    "predicted_price_rf = pipeline_rf.predict(rf_data)\n",
    "print(f\"Predicted price with sample 1 : {predicted_price_rf[0]}\")\n",
    "\n",
    "# Saisir manuellement une nouvelle donnée pour prédiction\n",
    "# 21\t4.73\t2.0\t25\t40.0\n",
    "rf_data = pd.DataFrame({\n",
    "    'neighbourhood_cleansed': ['Hôtel-de-Ville'],\n",
    "    'room_type': ['Entire home/apt'],\n",
    "    'accommodates': [4],\n",
    "    'bathrooms': [1.0],\n",
    "    'beds': [1.0],\n",
    "    'number_of_reviews': [21],\n",
    "    'review_scores_rating': [4.73],\n",
    "    'bedrooms': [2.0],\n",
    "    'amenities_count': [25],\n",
    "    'price_per_person': [40.0]\n",
    "})\n",
    "\n",
    "# Faire une prédiction avec la nouvelle donnée\n",
    "predicted_price_rf = pipeline_rf.predict(rf_data)\n",
    "print(f\"Predicted price with sample 2: {predicted_price_rf[0]}\")"
   ]
  },
  {
   "cell_type": "markdown",
   "metadata": {},
   "source": [
    "# Auto keras"
   ]
  },
  {
   "cell_type": "code",
   "execution_count": null,
   "metadata": {},
   "outputs": [
    {
     "name": "stdout",
     "output_type": "stream",
     "text": [
      "Requirement already satisfied: autokeras in c:\\users\\aymane\\desktop\\ipssi_2\\machine_learning\\project\\airbnb_price_prediction\\.venv\\lib\\site-packages (1.0.20)Note: you may need to restart the kernel to use updated packages.\n"
     ]
    },
    {
     "name": "stderr",
     "output_type": "stream",
     "text": [
      "\n",
      "[notice] A new release of pip is available: 24.2 -> 24.3.1\n",
      "[notice] To update, run: python.exe -m pip install --upgrade pip\n"
     ]
    },
    {
     "name": "stdout",
     "output_type": "stream",
     "text": [
      "\n",
      "Requirement already satisfied: packaging in c:\\users\\aymane\\desktop\\ipssi_2\\machine_learning\\project\\airbnb_price_prediction\\.venv\\lib\\site-packages (from autokeras) (24.2)\n",
      "Requirement already satisfied: tensorflow>=2.8.0 in c:\\users\\aymane\\desktop\\ipssi_2\\machine_learning\\project\\airbnb_price_prediction\\.venv\\lib\\site-packages (from autokeras) (2.18.0)\n",
      "Requirement already satisfied: keras-tuner>=1.1.0 in c:\\users\\aymane\\desktop\\ipssi_2\\machine_learning\\project\\airbnb_price_prediction\\.venv\\lib\\site-packages (from autokeras) (1.4.7)\n",
      "Requirement already satisfied: pandas in c:\\users\\aymane\\desktop\\ipssi_2\\machine_learning\\project\\airbnb_price_prediction\\.venv\\lib\\site-packages (from autokeras) (2.2.3)\n",
      "Requirement already satisfied: keras in c:\\users\\aymane\\desktop\\ipssi_2\\machine_learning\\project\\airbnb_price_prediction\\.venv\\lib\\site-packages (from keras-tuner>=1.1.0->autokeras) (3.7.0)\n",
      "Requirement already satisfied: requests in c:\\users\\aymane\\desktop\\ipssi_2\\machine_learning\\project\\airbnb_price_prediction\\.venv\\lib\\site-packages (from keras-tuner>=1.1.0->autokeras) (2.32.3)\n",
      "Requirement already satisfied: kt-legacy in c:\\users\\aymane\\desktop\\ipssi_2\\machine_learning\\project\\airbnb_price_prediction\\.venv\\lib\\site-packages (from keras-tuner>=1.1.0->autokeras) (1.0.5)\n",
      "Requirement already satisfied: tensorflow-intel==2.18.0 in c:\\users\\aymane\\desktop\\ipssi_2\\machine_learning\\project\\airbnb_price_prediction\\.venv\\lib\\site-packages (from tensorflow>=2.8.0->autokeras) (2.18.0)\n",
      "Requirement already satisfied: absl-py>=1.0.0 in c:\\users\\aymane\\desktop\\ipssi_2\\machine_learning\\project\\airbnb_price_prediction\\.venv\\lib\\site-packages (from tensorflow-intel==2.18.0->tensorflow>=2.8.0->autokeras) (2.1.0)\n",
      "Requirement already satisfied: astunparse>=1.6.0 in c:\\users\\aymane\\desktop\\ipssi_2\\machine_learning\\project\\airbnb_price_prediction\\.venv\\lib\\site-packages (from tensorflow-intel==2.18.0->tensorflow>=2.8.0->autokeras) (1.6.3)\n",
      "Requirement already satisfied: flatbuffers>=24.3.25 in c:\\users\\aymane\\desktop\\ipssi_2\\machine_learning\\project\\airbnb_price_prediction\\.venv\\lib\\site-packages (from tensorflow-intel==2.18.0->tensorflow>=2.8.0->autokeras) (24.3.25)\n",
      "Requirement already satisfied: gast!=0.5.0,!=0.5.1,!=0.5.2,>=0.2.1 in c:\\users\\aymane\\desktop\\ipssi_2\\machine_learning\\project\\airbnb_price_prediction\\.venv\\lib\\site-packages (from tensorflow-intel==2.18.0->tensorflow>=2.8.0->autokeras) (0.6.0)\n",
      "Requirement already satisfied: google-pasta>=0.1.1 in c:\\users\\aymane\\desktop\\ipssi_2\\machine_learning\\project\\airbnb_price_prediction\\.venv\\lib\\site-packages (from tensorflow-intel==2.18.0->tensorflow>=2.8.0->autokeras) (0.2.0)\n",
      "Requirement already satisfied: libclang>=13.0.0 in c:\\users\\aymane\\desktop\\ipssi_2\\machine_learning\\project\\airbnb_price_prediction\\.venv\\lib\\site-packages (from tensorflow-intel==2.18.0->tensorflow>=2.8.0->autokeras) (18.1.1)\n",
      "Requirement already satisfied: opt-einsum>=2.3.2 in c:\\users\\aymane\\desktop\\ipssi_2\\machine_learning\\project\\airbnb_price_prediction\\.venv\\lib\\site-packages (from tensorflow-intel==2.18.0->tensorflow>=2.8.0->autokeras) (3.4.0)\n",
      "Requirement already satisfied: protobuf!=4.21.0,!=4.21.1,!=4.21.2,!=4.21.3,!=4.21.4,!=4.21.5,<6.0.0dev,>=3.20.3 in c:\\users\\aymane\\desktop\\ipssi_2\\machine_learning\\project\\airbnb_price_prediction\\.venv\\lib\\site-packages (from tensorflow-intel==2.18.0->tensorflow>=2.8.0->autokeras) (5.29.1)\n",
      "Requirement already satisfied: setuptools in c:\\users\\aymane\\desktop\\ipssi_2\\machine_learning\\project\\airbnb_price_prediction\\.venv\\lib\\site-packages (from tensorflow-intel==2.18.0->tensorflow>=2.8.0->autokeras) (75.6.0)\n",
      "Requirement already satisfied: six>=1.12.0 in c:\\users\\aymane\\desktop\\ipssi_2\\machine_learning\\project\\airbnb_price_prediction\\.venv\\lib\\site-packages (from tensorflow-intel==2.18.0->tensorflow>=2.8.0->autokeras) (1.17.0)\n",
      "Requirement already satisfied: termcolor>=1.1.0 in c:\\users\\aymane\\desktop\\ipssi_2\\machine_learning\\project\\airbnb_price_prediction\\.venv\\lib\\site-packages (from tensorflow-intel==2.18.0->tensorflow>=2.8.0->autokeras) (2.5.0)\n",
      "Requirement already satisfied: typing-extensions>=3.6.6 in c:\\users\\aymane\\desktop\\ipssi_2\\machine_learning\\project\\airbnb_price_prediction\\.venv\\lib\\site-packages (from tensorflow-intel==2.18.0->tensorflow>=2.8.0->autokeras) (4.12.2)\n",
      "Requirement already satisfied: wrapt>=1.11.0 in c:\\users\\aymane\\desktop\\ipssi_2\\machine_learning\\project\\airbnb_price_prediction\\.venv\\lib\\site-packages (from tensorflow-intel==2.18.0->tensorflow>=2.8.0->autokeras) (1.17.0)\n",
      "Requirement already satisfied: grpcio<2.0,>=1.24.3 in c:\\users\\aymane\\desktop\\ipssi_2\\machine_learning\\project\\airbnb_price_prediction\\.venv\\lib\\site-packages (from tensorflow-intel==2.18.0->tensorflow>=2.8.0->autokeras) (1.68.1)\n",
      "Requirement already satisfied: tensorboard<2.19,>=2.18 in c:\\users\\aymane\\desktop\\ipssi_2\\machine_learning\\project\\airbnb_price_prediction\\.venv\\lib\\site-packages (from tensorflow-intel==2.18.0->tensorflow>=2.8.0->autokeras) (2.18.0)\n",
      "Requirement already satisfied: numpy<2.1.0,>=1.26.0 in c:\\users\\aymane\\desktop\\ipssi_2\\machine_learning\\project\\airbnb_price_prediction\\.venv\\lib\\site-packages (from tensorflow-intel==2.18.0->tensorflow>=2.8.0->autokeras) (2.0.2)\n",
      "Requirement already satisfied: h5py>=3.11.0 in c:\\users\\aymane\\desktop\\ipssi_2\\machine_learning\\project\\airbnb_price_prediction\\.venv\\lib\\site-packages (from tensorflow-intel==2.18.0->tensorflow>=2.8.0->autokeras) (3.12.1)\n",
      "Requirement already satisfied: ml-dtypes<0.5.0,>=0.4.0 in c:\\users\\aymane\\desktop\\ipssi_2\\machine_learning\\project\\airbnb_price_prediction\\.venv\\lib\\site-packages (from tensorflow-intel==2.18.0->tensorflow>=2.8.0->autokeras) (0.4.1)\n",
      "Requirement already satisfied: python-dateutil>=2.8.2 in c:\\users\\aymane\\desktop\\ipssi_2\\machine_learning\\project\\airbnb_price_prediction\\.venv\\lib\\site-packages (from pandas->autokeras) (2.9.0.post0)\n",
      "Requirement already satisfied: pytz>=2020.1 in c:\\users\\aymane\\desktop\\ipssi_2\\machine_learning\\project\\airbnb_price_prediction\\.venv\\lib\\site-packages (from pandas->autokeras) (2024.2)\n",
      "Requirement already satisfied: tzdata>=2022.7 in c:\\users\\aymane\\desktop\\ipssi_2\\machine_learning\\project\\airbnb_price_prediction\\.venv\\lib\\site-packages (from pandas->autokeras) (2024.2)\n",
      "Requirement already satisfied: rich in c:\\users\\aymane\\desktop\\ipssi_2\\machine_learning\\project\\airbnb_price_prediction\\.venv\\lib\\site-packages (from keras->keras-tuner>=1.1.0->autokeras) (13.9.4)\n",
      "Requirement already satisfied: namex in c:\\users\\aymane\\desktop\\ipssi_2\\machine_learning\\project\\airbnb_price_prediction\\.venv\\lib\\site-packages (from keras->keras-tuner>=1.1.0->autokeras) (0.0.8)\n",
      "Requirement already satisfied: optree in c:\\users\\aymane\\desktop\\ipssi_2\\machine_learning\\project\\airbnb_price_prediction\\.venv\\lib\\site-packages (from keras->keras-tuner>=1.1.0->autokeras) (0.13.1)\n",
      "Requirement already satisfied: charset-normalizer<4,>=2 in c:\\users\\aymane\\desktop\\ipssi_2\\machine_learning\\project\\airbnb_price_prediction\\.venv\\lib\\site-packages (from requests->keras-tuner>=1.1.0->autokeras) (3.4.0)\n",
      "Requirement already satisfied: idna<4,>=2.5 in c:\\users\\aymane\\desktop\\ipssi_2\\machine_learning\\project\\airbnb_price_prediction\\.venv\\lib\\site-packages (from requests->keras-tuner>=1.1.0->autokeras) (3.10)\n",
      "Requirement already satisfied: urllib3<3,>=1.21.1 in c:\\users\\aymane\\desktop\\ipssi_2\\machine_learning\\project\\airbnb_price_prediction\\.venv\\lib\\site-packages (from requests->keras-tuner>=1.1.0->autokeras) (2.2.3)\n",
      "Requirement already satisfied: certifi>=2017.4.17 in c:\\users\\aymane\\desktop\\ipssi_2\\machine_learning\\project\\airbnb_price_prediction\\.venv\\lib\\site-packages (from requests->keras-tuner>=1.1.0->autokeras) (2024.8.30)\n",
      "Requirement already satisfied: wheel<1.0,>=0.23.0 in c:\\users\\aymane\\desktop\\ipssi_2\\machine_learning\\project\\airbnb_price_prediction\\.venv\\lib\\site-packages (from astunparse>=1.6.0->tensorflow-intel==2.18.0->tensorflow>=2.8.0->autokeras) (0.45.1)\n",
      "Requirement already satisfied: markdown>=2.6.8 in c:\\users\\aymane\\desktop\\ipssi_2\\machine_learning\\project\\airbnb_price_prediction\\.venv\\lib\\site-packages (from tensorboard<2.19,>=2.18->tensorflow-intel==2.18.0->tensorflow>=2.8.0->autokeras) (3.7)\n",
      "Requirement already satisfied: tensorboard-data-server<0.8.0,>=0.7.0 in c:\\users\\aymane\\desktop\\ipssi_2\\machine_learning\\project\\airbnb_price_prediction\\.venv\\lib\\site-packages (from tensorboard<2.19,>=2.18->tensorflow-intel==2.18.0->tensorflow>=2.8.0->autokeras) (0.7.2)\n",
      "Requirement already satisfied: werkzeug>=1.0.1 in c:\\users\\aymane\\desktop\\ipssi_2\\machine_learning\\project\\airbnb_price_prediction\\.venv\\lib\\site-packages (from tensorboard<2.19,>=2.18->tensorflow-intel==2.18.0->tensorflow>=2.8.0->autokeras) (3.1.3)\n",
      "Requirement already satisfied: markdown-it-py>=2.2.0 in c:\\users\\aymane\\desktop\\ipssi_2\\machine_learning\\project\\airbnb_price_prediction\\.venv\\lib\\site-packages (from rich->keras->keras-tuner>=1.1.0->autokeras) (3.0.0)\n",
      "Requirement already satisfied: pygments<3.0.0,>=2.13.0 in c:\\users\\aymane\\desktop\\ipssi_2\\machine_learning\\project\\airbnb_price_prediction\\.venv\\lib\\site-packages (from rich->keras->keras-tuner>=1.1.0->autokeras) (2.18.0)\n",
      "Requirement already satisfied: mdurl~=0.1 in c:\\users\\aymane\\desktop\\ipssi_2\\machine_learning\\project\\airbnb_price_prediction\\.venv\\lib\\site-packages (from markdown-it-py>=2.2.0->rich->keras->keras-tuner>=1.1.0->autokeras) (0.1.2)\n",
      "Requirement already satisfied: MarkupSafe>=2.1.1 in c:\\users\\aymane\\desktop\\ipssi_2\\machine_learning\\project\\airbnb_price_prediction\\.venv\\lib\\site-packages (from werkzeug>=1.0.1->tensorboard<2.19,>=2.18->tensorflow-intel==2.18.0->tensorflow>=2.8.0->autokeras) (3.0.2)\n"
     ]
    }
   ],
   "source": [
    "# %pip install autokeras"
   ]
  },
  {
   "cell_type": "code",
   "execution_count": 127,
   "metadata": {},
   "outputs": [],
   "source": [
    "# import autokeras as ak\n",
    "\n",
    "# # Définir les variables X (caractéristiques) et y (cible)\n",
    "# y = df['price']\n",
    "# X = df.drop(['price'], axis=1)\n",
    "\n",
    "# # Diviser les données en ensembles d'entraînement et de test\n",
    "# X_train, X_test, y_train, y_test = train_test_split(X, y, shuffle=True, random_state=42, test_size=0.2)\n",
    "\n",
    "# # Initialiser le modèle de régression AutoKeras\n",
    "# auto_model = ak.StructuredDataRegressor(max_trials=10, overwrite=True)  # max_trials définit le nombre de modèles testés\n",
    "\n",
    "# # Entraîner le modèle\n",
    "# auto_model.fit(X_train, y_train, epochs=10)  # Vous pouvez augmenter les epochs si nécessaire\n",
    "\n",
    "# # Prédire les valeurs de test\n",
    "# y_pred = auto_model.predict(X_test).flatten()  # .flatten() pour aplatir les prédictions\n",
    "\n",
    "# # Évaluer les performances\n",
    "# rmse = np.sqrt(mean_squared_error(y_test, y_pred))\n",
    "# mae = mean_absolute_error(y_test, y_pred)\n",
    "# r2 = r2_score(y_test, y_pred)\n",
    "\n",
    "# print(f\"RMSE: {rmse}\")\n",
    "# print(f\"MAE: {mae}\")\n",
    "# print(f\"R²: {r2}\")\n",
    "\n",
    "# # Exporter le meilleur modèle trouvé\n",
    "# best_model = auto_model.export_model()\n",
    "# best_model.save(\"best_autokeras_model\")"
   ]
  }
 ],
 "metadata": {
  "kernelspec": {
   "display_name": ".venv",
   "language": "python",
   "name": "python3"
  },
  "language_info": {
   "codemirror_mode": {
    "name": "ipython",
    "version": 3
   },
   "file_extension": ".py",
   "mimetype": "text/x-python",
   "name": "python",
   "nbconvert_exporter": "python",
   "pygments_lexer": "ipython3",
   "version": "3.12.5"
  }
 },
 "nbformat": 4,
 "nbformat_minor": 2
}
